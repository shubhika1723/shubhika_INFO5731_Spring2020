{
  "cells": [
    {
      "cell_type": "markdown",
      "metadata": {
        "id": "view-in-github",
        "colab_type": "text"
      },
      "source": [
        "<a href=\"https://colab.research.google.com/github/shubhika1723/shubhika_INFO5731_Spring2020/blob/main/INFO5731_Assignment_Three_fall2022.ipynb\" target=\"_parent\"><img src=\"https://colab.research.google.com/assets/colab-badge.svg\" alt=\"Open In Colab\"/></a>"
      ]
    },
    {
      "cell_type": "markdown",
      "metadata": {
        "id": "USSdXHuqnwv9"
      },
      "source": [
        "# **INFO5731 Assignment Three**\n",
        "\n",
        "In this assignment, you are required to conduct information extraction, semantic analysis based on **the dataset you collected from assignment two**. You may use scipy and numpy package in this assignment."
      ]
    },
    {
      "cell_type": "markdown",
      "metadata": {
        "id": "YWxodXh5n4xF"
      },
      "source": [
        "# **Question 1: Understand N-gram**"
      ]
    },
    {
      "cell_type": "markdown",
      "metadata": {
        "id": "TenBkDJ5n95k"
      },
      "source": [
        "(45 points). Write a python program to conduct N-gram analysis based on the dataset in your assignment two:\n",
        "\n",
        "(1) Count the frequency of all the N-grams (N=3).\n",
        "\n",
        "(2) Calculate the probabilities for all the bigrams in the dataset by using the fomular count(w2 w1) / count(w2). For example, count(really like) / count(really) = 1 / 3 = 0.33.\n",
        "\n",
        "(3) Extract all the **noun phrases** and calculate the relative probabilities of each review in terms of other reviews (abstracts, or tweets) by using the fomular frequency (noun phrase) / max frequency (noun phrase) on the whole dataset. Print out the result in a table with column name the all the noun phrases and row name as all the 100 reviews (abstracts, or tweets). \n"
      ]
    },
    {
      "cell_type": "code",
      "execution_count": 1,
      "metadata": {
        "colab": {
          "base_uri": "https://localhost:8080/"
        },
        "id": "PuFPKhC0m1fd",
        "outputId": "cf839f4c-60a3-4807-cf72-0b47f76259e0"
      },
      "outputs": [
        {
          "output_type": "stream",
          "name": "stdout",
          "text": [
            "Looking in indexes: https://pypi.org/simple, https://us-python.pkg.dev/colab-wheels/public/simple/\n",
            "Collecting transformers\n",
            "  Downloading transformers-4.24.0-py3-none-any.whl (5.5 MB)\n",
            "\u001b[K     |████████████████████████████████| 5.5 MB 5.3 MB/s \n",
            "\u001b[?25hRequirement already satisfied: numpy>=1.17 in /usr/local/lib/python3.7/dist-packages (from transformers) (1.21.6)\n",
            "Collecting huggingface-hub<1.0,>=0.10.0\n",
            "  Downloading huggingface_hub-0.11.0-py3-none-any.whl (182 kB)\n",
            "\u001b[K     |████████████████████████████████| 182 kB 56.4 MB/s \n",
            "\u001b[?25hRequirement already satisfied: requests in /usr/local/lib/python3.7/dist-packages (from transformers) (2.23.0)\n",
            "Collecting tokenizers!=0.11.3,<0.14,>=0.11.1\n",
            "  Downloading tokenizers-0.13.2-cp37-cp37m-manylinux_2_17_x86_64.manylinux2014_x86_64.whl (7.6 MB)\n",
            "\u001b[K     |████████████████████████████████| 7.6 MB 38.4 MB/s \n",
            "\u001b[?25hRequirement already satisfied: tqdm>=4.27 in /usr/local/lib/python3.7/dist-packages (from transformers) (4.64.1)\n",
            "Requirement already satisfied: regex!=2019.12.17 in /usr/local/lib/python3.7/dist-packages (from transformers) (2022.6.2)\n",
            "Requirement already satisfied: pyyaml>=5.1 in /usr/local/lib/python3.7/dist-packages (from transformers) (6.0)\n",
            "Requirement already satisfied: filelock in /usr/local/lib/python3.7/dist-packages (from transformers) (3.8.0)\n",
            "Requirement already satisfied: importlib-metadata in /usr/local/lib/python3.7/dist-packages (from transformers) (4.13.0)\n",
            "Requirement already satisfied: packaging>=20.0 in /usr/local/lib/python3.7/dist-packages (from transformers) (21.3)\n",
            "Requirement already satisfied: typing-extensions>=3.7.4.3 in /usr/local/lib/python3.7/dist-packages (from huggingface-hub<1.0,>=0.10.0->transformers) (4.1.1)\n",
            "Requirement already satisfied: pyparsing!=3.0.5,>=2.0.2 in /usr/local/lib/python3.7/dist-packages (from packaging>=20.0->transformers) (3.0.9)\n",
            "Requirement already satisfied: zipp>=0.5 in /usr/local/lib/python3.7/dist-packages (from importlib-metadata->transformers) (3.10.0)\n",
            "Requirement already satisfied: idna<3,>=2.5 in /usr/local/lib/python3.7/dist-packages (from requests->transformers) (2.10)\n",
            "Requirement already satisfied: certifi>=2017.4.17 in /usr/local/lib/python3.7/dist-packages (from requests->transformers) (2022.9.24)\n",
            "Requirement already satisfied: urllib3!=1.25.0,!=1.25.1,<1.26,>=1.21.1 in /usr/local/lib/python3.7/dist-packages (from requests->transformers) (1.24.3)\n",
            "Requirement already satisfied: chardet<4,>=3.0.2 in /usr/local/lib/python3.7/dist-packages (from requests->transformers) (3.0.4)\n",
            "Installing collected packages: tokenizers, huggingface-hub, transformers\n",
            "Successfully installed huggingface-hub-0.11.0 tokenizers-0.13.2 transformers-4.24.0\n"
          ]
        },
        {
          "output_type": "stream",
          "name": "stderr",
          "text": [
            "[nltk_data] Downloading package punkt to /root/nltk_data...\n",
            "[nltk_data]   Unzipping tokenizers/punkt.zip.\n",
            "[nltk_data] Downloading package wordnet to /root/nltk_data...\n"
          ]
        }
      ],
      "source": [
        "\n",
        "# Write your code here\n",
        "# Write your code here\n",
        "!pip install transformers\n",
        "\n",
        "import warnings\n",
        "import matplotlib.pyplot as plt\n",
        "import seaborn as sns\n",
        "import torch\n",
        "import transformers\n",
        "from gensim.models.phrases import Phrases, Phraser\n",
        "from gensim.models import Word2Vec\n",
        "from tensorflow.keras.callbacks import EarlyStopping, ModelCheckpoint\n",
        "from tensorflow.keras.layers import Dense\n",
        "from tensorflow.keras.models import Sequential\n",
        "import tensorflow as tf\n",
        "from nltk.classify import NaiveBayesClassifier\n",
        "from nltk.sentiment import SentimentAnalyzer\n",
        "import nltk\n",
        "from collections import Counter\n",
        "from sklearn.pipeline import Pipeline, make_pipeline\n",
        "from sklearn.metrics import accuracy_score, confusion_matrix\n",
        "from sklearn.feature_selection import chi2\n",
        "from sklearn.decomposition import PCA\n",
        "from sklearn.base import BaseEstimator, TransformerMixin\n",
        "from sklearn.model_selection import train_test_split\n",
        "from sklearn.ensemble import RandomForestClassifier, AdaBoostClassifier, AdaBoostRegressor\n",
        "from sklearn.feature_extraction.text import CountVectorizer, TfidfVectorizer\n",
        "import numpy as np\n",
        "import pandas as pd\n",
        "import time\n",
        "import pickle\n",
        "import os\n",
        "\n",
        "\n",
        "nltk.download('punkt')\n",
        "nltk.download('wordnet')\n",
        "\n",
        "\n",
        "warnings.simplefilter(action='ignore', category=FutureWarning)\n",
        "\n",
        "\n"
      ]
    },
    {
      "cell_type": "code",
      "source": [
        "df = pd.read_csv(\"twitter.csv\", on_bad_lines='skip')\n",
        "df[\"'polarity'\"] = df[\"'polarity'\"].map({0: 0, 2: 1, 4: 2})\n",
        "df.dropna(inplace=True)\n",
        "pd.set_option('display.max_colwidth', None)\n",
        "df.head(2)"
      ],
      "metadata": {
        "colab": {
          "base_uri": "https://localhost:8080/",
          "height": 112
        },
        "id": "si8Ag-mLCM2V",
        "outputId": "fbc390e4-a660-4ecb-c6dd-bc93eecc05c0"
      },
      "execution_count": 2,
      "outputs": [
        {
          "output_type": "execute_result",
          "data": {
            "text/plain": [
              "   'polarity'  'id'                        'date'  'query'  'user'  \\\n",
              "0           2     3  Mon May 11 03:17:40 UTC 2009  kindle2  tpryan   \n",
              "1           2     4  Mon May 11 03:18:03 UTC 2009  kindle2  vcu451   \n",
              "\n",
              "                                                                                                            'text'  \n",
              "0  @stellargirl I loooooooovvvvvveee my Kindle2. Not that the DX is cool, but the 2 is fantastic in its own right.  \n",
              "1                                                       Reading my kindle2...  Love it... Lee childs is good read.  "
            ],
            "text/html": [
              "\n",
              "  <div id=\"df-c3d2aa0e-f0bd-469a-83a8-a2b76ec6e221\">\n",
              "    <div class=\"colab-df-container\">\n",
              "      <div>\n",
              "<style scoped>\n",
              "    .dataframe tbody tr th:only-of-type {\n",
              "        vertical-align: middle;\n",
              "    }\n",
              "\n",
              "    .dataframe tbody tr th {\n",
              "        vertical-align: top;\n",
              "    }\n",
              "\n",
              "    .dataframe thead th {\n",
              "        text-align: right;\n",
              "    }\n",
              "</style>\n",
              "<table border=\"1\" class=\"dataframe\">\n",
              "  <thead>\n",
              "    <tr style=\"text-align: right;\">\n",
              "      <th></th>\n",
              "      <th>'polarity'</th>\n",
              "      <th>'id'</th>\n",
              "      <th>'date'</th>\n",
              "      <th>'query'</th>\n",
              "      <th>'user'</th>\n",
              "      <th>'text'</th>\n",
              "    </tr>\n",
              "  </thead>\n",
              "  <tbody>\n",
              "    <tr>\n",
              "      <th>0</th>\n",
              "      <td>2</td>\n",
              "      <td>3</td>\n",
              "      <td>Mon May 11 03:17:40 UTC 2009</td>\n",
              "      <td>kindle2</td>\n",
              "      <td>tpryan</td>\n",
              "      <td>@stellargirl I loooooooovvvvvveee my Kindle2. Not that the DX is cool, but the 2 is fantastic in its own right.</td>\n",
              "    </tr>\n",
              "    <tr>\n",
              "      <th>1</th>\n",
              "      <td>2</td>\n",
              "      <td>4</td>\n",
              "      <td>Mon May 11 03:18:03 UTC 2009</td>\n",
              "      <td>kindle2</td>\n",
              "      <td>vcu451</td>\n",
              "      <td>Reading my kindle2...  Love it... Lee childs is good read.</td>\n",
              "    </tr>\n",
              "  </tbody>\n",
              "</table>\n",
              "</div>\n",
              "      <button class=\"colab-df-convert\" onclick=\"convertToInteractive('df-c3d2aa0e-f0bd-469a-83a8-a2b76ec6e221')\"\n",
              "              title=\"Convert this dataframe to an interactive table.\"\n",
              "              style=\"display:none;\">\n",
              "        \n",
              "  <svg xmlns=\"http://www.w3.org/2000/svg\" height=\"24px\"viewBox=\"0 0 24 24\"\n",
              "       width=\"24px\">\n",
              "    <path d=\"M0 0h24v24H0V0z\" fill=\"none\"/>\n",
              "    <path d=\"M18.56 5.44l.94 2.06.94-2.06 2.06-.94-2.06-.94-.94-2.06-.94 2.06-2.06.94zm-11 1L8.5 8.5l.94-2.06 2.06-.94-2.06-.94L8.5 2.5l-.94 2.06-2.06.94zm10 10l.94 2.06.94-2.06 2.06-.94-2.06-.94-.94-2.06-.94 2.06-2.06.94z\"/><path d=\"M17.41 7.96l-1.37-1.37c-.4-.4-.92-.59-1.43-.59-.52 0-1.04.2-1.43.59L10.3 9.45l-7.72 7.72c-.78.78-.78 2.05 0 2.83L4 21.41c.39.39.9.59 1.41.59.51 0 1.02-.2 1.41-.59l7.78-7.78 2.81-2.81c.8-.78.8-2.07 0-2.86zM5.41 20L4 18.59l7.72-7.72 1.47 1.35L5.41 20z\"/>\n",
              "  </svg>\n",
              "      </button>\n",
              "      \n",
              "  <style>\n",
              "    .colab-df-container {\n",
              "      display:flex;\n",
              "      flex-wrap:wrap;\n",
              "      gap: 12px;\n",
              "    }\n",
              "\n",
              "    .colab-df-convert {\n",
              "      background-color: #E8F0FE;\n",
              "      border: none;\n",
              "      border-radius: 50%;\n",
              "      cursor: pointer;\n",
              "      display: none;\n",
              "      fill: #1967D2;\n",
              "      height: 32px;\n",
              "      padding: 0 0 0 0;\n",
              "      width: 32px;\n",
              "    }\n",
              "\n",
              "    .colab-df-convert:hover {\n",
              "      background-color: #E2EBFA;\n",
              "      box-shadow: 0px 1px 2px rgba(60, 64, 67, 0.3), 0px 1px 3px 1px rgba(60, 64, 67, 0.15);\n",
              "      fill: #174EA6;\n",
              "    }\n",
              "\n",
              "    [theme=dark] .colab-df-convert {\n",
              "      background-color: #3B4455;\n",
              "      fill: #D2E3FC;\n",
              "    }\n",
              "\n",
              "    [theme=dark] .colab-df-convert:hover {\n",
              "      background-color: #434B5C;\n",
              "      box-shadow: 0px 1px 3px 1px rgba(0, 0, 0, 0.15);\n",
              "      filter: drop-shadow(0px 1px 2px rgba(0, 0, 0, 0.3));\n",
              "      fill: #FFFFFF;\n",
              "    }\n",
              "  </style>\n",
              "\n",
              "      <script>\n",
              "        const buttonEl =\n",
              "          document.querySelector('#df-c3d2aa0e-f0bd-469a-83a8-a2b76ec6e221 button.colab-df-convert');\n",
              "        buttonEl.style.display =\n",
              "          google.colab.kernel.accessAllowed ? 'block' : 'none';\n",
              "\n",
              "        async function convertToInteractive(key) {\n",
              "          const element = document.querySelector('#df-c3d2aa0e-f0bd-469a-83a8-a2b76ec6e221');\n",
              "          const dataTable =\n",
              "            await google.colab.kernel.invokeFunction('convertToInteractive',\n",
              "                                                     [key], {});\n",
              "          if (!dataTable) return;\n",
              "\n",
              "          const docLinkHtml = 'Like what you see? Visit the ' +\n",
              "            '<a target=\"_blank\" href=https://colab.research.google.com/notebooks/data_table.ipynb>data table notebook</a>'\n",
              "            + ' to learn more about interactive tables.';\n",
              "          element.innerHTML = '';\n",
              "          dataTable['output_type'] = 'display_data';\n",
              "          await google.colab.output.renderOutput(dataTable, element);\n",
              "          const docLink = document.createElement('div');\n",
              "          docLink.innerHTML = docLinkHtml;\n",
              "          element.appendChild(docLink);\n",
              "        }\n",
              "      </script>\n",
              "    </div>\n",
              "  </div>\n",
              "  "
            ]
          },
          "metadata": {},
          "execution_count": 2
        }
      ]
    },
    {
      "cell_type": "code",
      "source": [
        "train, test = train_test_split(df[[\"'text'\", \"'polarity'\"]], random_state=0)\n",
        "X_train = train[\"'text'\"]\n",
        "X_test = test[\"'text'\"]\n",
        "y_train = train[\"'polarity'\"]\n",
        "y_test = test[\"'polarity'\"]"
      ],
      "metadata": {
        "id": "qT4yXPnXCQvG"
      },
      "execution_count": 3,
      "outputs": []
    },
    {
      "cell_type": "code",
      "source": [
        "def get_accuracy():\n",
        "    pipe.fit(X_train, y_train)\n",
        "    y_pred = pipe.predict(X_test)\n",
        "    return round(accuracy_score(y_pred, y_test), 3)"
      ],
      "metadata": {
        "id": "jmC7VVjzCVH0"
      },
      "execution_count": 4,
      "outputs": []
    },
    {
      "cell_type": "markdown",
      "metadata": {
        "id": "AfpMRCrRwN6Z"
      },
      "source": [
        "# **Question 2: Undersand TF-IDF and Document representation**"
      ]
    },
    {
      "cell_type": "markdown",
      "metadata": {
        "id": "1dCQEbDawWCw"
      },
      "source": [
        "(20 points). Starting from the documents (all the reviews, or abstracts, or tweets) collected for assignment two, write a python program: \n",
        "\n",
        "(1) To build the **documents-terms weights (tf*idf) matrix bold text**.\n",
        "\n",
        "(2) To rank the documents with respect to query (design a query by yourself, for example, \"An Outstanding movie with a haunting performance and best character development\") by using **cosine similarity**."
      ]
    },
    {
      "cell_type": "code",
      "source": [
        "# Write your code here\n",
        "count_vectorizer = CountVectorizer(max_features=1000)\n",
        "random_forest = RandomForestClassifier(max_depth=10, n_estimators=10)"
      ],
      "metadata": {
        "id": "m2NcxW6QCkCV"
      },
      "execution_count": 5,
      "outputs": []
    },
    {
      "cell_type": "code",
      "source": [
        "pipe = make_pipeline(count_vectorizer, random_forest)"
      ],
      "metadata": {
        "id": "JE7PCrtYCppj"
      },
      "execution_count": 6,
      "outputs": []
    },
    {
      "cell_type": "code",
      "source": [
        "get_accuracy()"
      ],
      "metadata": {
        "colab": {
          "base_uri": "https://localhost:8080/"
        },
        "id": "At7n8ehhCq4Z",
        "outputId": "e650cf96-f70d-4107-8b40-1ee3316b37f7"
      },
      "execution_count": 7,
      "outputs": [
        {
          "output_type": "execute_result",
          "data": {
            "text/plain": [
              "0.552"
            ]
          },
          "metadata": {},
          "execution_count": 7
        }
      ]
    },
    {
      "cell_type": "code",
      "source": [
        "y_pred = pipe.predict(X_test)"
      ],
      "metadata": {
        "id": "Rr3YarO6Cte3"
      },
      "execution_count": 8,
      "outputs": []
    },
    {
      "cell_type": "code",
      "source": [
        "round(pd.Series(y_train).value_counts(normalize=True), 2)"
      ],
      "metadata": {
        "colab": {
          "base_uri": "https://localhost:8080/"
        },
        "id": "9huMIOwDCzXU",
        "outputId": "a34eecc4-8755-4f07-8c7c-2dc8fbc791fc"
      },
      "execution_count": 9,
      "outputs": [
        {
          "output_type": "execute_result",
          "data": {
            "text/plain": [
              "2    0.38\n",
              "0    0.37\n",
              "1    0.25\n",
              "Name: 'polarity', dtype: float64"
            ]
          },
          "metadata": {},
          "execution_count": 9
        }
      ]
    },
    {
      "cell_type": "code",
      "source": [
        "round(pd.Series(y_pred).value_counts(normalize=True), 2)"
      ],
      "metadata": {
        "colab": {
          "base_uri": "https://localhost:8080/"
        },
        "id": "x4YXpjOgC3Hy",
        "outputId": "40c65d52-0cc8-4b6d-f86c-563939af9be8"
      },
      "execution_count": 10,
      "outputs": [
        {
          "output_type": "execute_result",
          "data": {
            "text/plain": [
              "0    0.54\n",
              "1    0.28\n",
              "2    0.18\n",
              "dtype: float64"
            ]
          },
          "metadata": {},
          "execution_count": 10
        }
      ]
    },
    {
      "cell_type": "code",
      "source": [
        "random_forest.set_params(class_weight='balanced')\n",
        "print(get_accuracy())\n",
        "random_forest.set_params(class_weight='balanced_subsample')\n",
        "print(get_accuracy())"
      ],
      "metadata": {
        "colab": {
          "base_uri": "https://localhost:8080/"
        },
        "id": "T9PgeqypC4dM",
        "outputId": "d8d6352d-d723-43ae-94d6-23e97059485f"
      },
      "execution_count": 11,
      "outputs": [
        {
          "output_type": "stream",
          "name": "stdout",
          "text": [
            "0.624\n",
            "0.656\n"
          ]
        }
      ]
    },
    {
      "cell_type": "code",
      "source": [
        "labels = [0, 1, 2]\n",
        "y_pred = pipe.predict(X_test)\n",
        "cm = confusion_matrix(y_test, y_pred, labels=labels)\n",
        "fig = plt.figure(figsize=(10, 5))\n",
        "ax = fig.add_subplot(111)\n",
        "cax = ax.matshow(cm)\n",
        "plt.title('Confusion matrix')\n",
        "fig.colorbar(cax)\n",
        "ax.set_xticklabels([''] + labels)\n",
        "ax.set_yticklabels([''] + labels)\n",
        "plt.xlabel('Predicted')\n",
        "plt.ylabel('True')\n",
        "plt.show()"
      ],
      "metadata": {
        "colab": {
          "base_uri": "https://localhost:8080/",
          "height": 346
        },
        "id": "NStf4OuMC8Zx",
        "outputId": "3c6b1ada-8c56-448d-feaa-fb228694b7c6"
      },
      "execution_count": 12,
      "outputs": [
        {
          "output_type": "display_data",
          "data": {
            "text/plain": [
              "<Figure size 720x360 with 2 Axes>"
            ],
            "image/png": "[encoded data removed]"
          },
          "metadata": {
            "needs_background": "light"
          }
        }
      ]
    },
    {
      "cell_type": "code",
      "source": [
        "# taken from sklearn webpage\n",
        "from nltk import word_tokenize\n",
        "from nltk.stem import WordNetLemmatizer\n",
        "\n",
        "\n",
        "class LemmaTokenizer:\n",
        "    def __init__(self):\n",
        "        self.wnl = WordNetLemmatizer()\n",
        "\n",
        "    def __call__(self, doc):\n",
        "        return [self.wnl.lemmatize(t) for t in word_tokenize(doc)]"
      ],
      "metadata": {
        "id": "bg8eq8bfC_zx"
      },
      "execution_count": 13,
      "outputs": []
    },
    {
      "cell_type": "code",
      "source": [
        "import nltk\n",
        "nltk.download('omw-1.4')\n",
        "pipe[0].set_params(tokenizer=LemmaTokenizer())\n",
        "get_accuracy()"
      ],
      "metadata": {
        "colab": {
          "base_uri": "https://localhost:8080/"
        },
        "id": "L8CS1d3VDCxG",
        "outputId": "a011760b-f7eb-49bb-c87b-7cccf04288a5"
      },
      "execution_count": 14,
      "outputs": [
        {
          "output_type": "stream",
          "name": "stderr",
          "text": [
            "[nltk_data] Downloading package omw-1.4 to /root/nltk_data...\n"
          ]
        },
        {
          "output_type": "execute_result",
          "data": {
            "text/plain": [
              "0.624"
            ]
          },
          "metadata": {},
          "execution_count": 14
        }
      ]
    },
    {
      "cell_type": "code",
      "source": [
        "tfidf_vectorizer = TfidfVectorizer()\n",
        "pipe.steps[0] = ('vectorizer', tfidf_vectorizer)\n",
        "get_accuracy()"
      ],
      "metadata": {
        "colab": {
          "base_uri": "https://localhost:8080/"
        },
        "id": "283pVkzoDFi-",
        "outputId": "9a251d34-0e74-4906-ead6-2b1cde41bf17"
      },
      "execution_count": 15,
      "outputs": [
        {
          "output_type": "execute_result",
          "data": {
            "text/plain": [
              "0.592"
            ]
          },
          "metadata": {},
          "execution_count": 15
        }
      ]
    },
    {
      "cell_type": "code",
      "source": [
        "ada_boost = AdaBoostClassifier()\n",
        "pipe.steps[1] = ('adaboost', ada_boost)\n",
        "get_accuracy()"
      ],
      "metadata": {
        "colab": {
          "base_uri": "https://localhost:8080/"
        },
        "id": "mVB_KrWWDIt1",
        "outputId": "61e5b360-b028-4f96-9c41-6bbc5bca2597"
      },
      "execution_count": 16,
      "outputs": [
        {
          "output_type": "execute_result",
          "data": {
            "text/plain": [
              "0.536"
            ]
          },
          "metadata": {},
          "execution_count": 16
        }
      ]
    },
    {
      "cell_type": "code",
      "source": [
        "count_vectorizer.get_feature_names"
      ],
      "metadata": {
        "colab": {
          "base_uri": "https://localhost:8080/"
        },
        "id": "79Kd81aNDNmW",
        "outputId": "ba22be13-cdf1-4da0-8b61-e9ab89b0520f"
      },
      "execution_count": 17,
      "outputs": [
        {
          "output_type": "execute_result",
          "data": {
            "text/plain": [
              "<bound method CountVectorizer.get_feature_names of CountVectorizer(max_features=1000,\n",
              "                tokenizer=<__main__.LemmaTokenizer object at 0x7f5f21d0f910>)>"
            ]
          },
          "metadata": {},
          "execution_count": 17
        }
      ]
    },
    {
      "cell_type": "code",
      "source": [
        "count_vectorizer = CountVectorizer()\n",
        "\n",
        "bow = count_vectorizer.fit_transform(X_train)\n",
        "\n",
        "words = count_vectorizer.get_feature_names()\n",
        "\n",
        "p_value_limit = 0.95\n",
        "\n",
        "dtf_features = pd.DataFrame()\n",
        "\n",
        "for cat in range(3):\n",
        "    _, p = chi2(bow, y_train == cat)\n",
        "    dtf_features = dtf_features.append(pd.DataFrame(\n",
        "        {\"feature\": words, \"score\": 1-p, \"y\": cat}))\n",
        "    dtf_features = dtf_features.sort_values([\"y\", \"score\"],\n",
        "                                            ascending=[True, False])\n",
        "    dtf_features = dtf_features[dtf_features[\"score\"] > p_value_limit]\n",
        "\n",
        "X_names = dtf_features[\"feature\"].unique().tolist()\n",
        "\n",
        "pipe['vectorizer'].set_params(vocabulary=X_names)\n",
        "\n",
        "get_accuracy()"
      ],
      "metadata": {
        "colab": {
          "base_uri": "https://localhost:8080/"
        },
        "id": "S0v4182CDREi",
        "outputId": "a9c7abcb-58f6-4f71-8df4-6cb09a587213"
      },
      "execution_count": 18,
      "outputs": [
        {
          "output_type": "execute_result",
          "data": {
            "text/plain": [
              "0.624"
            ]
          },
          "metadata": {},
          "execution_count": 18
        }
      ]
    },
    {
      "cell_type": "code",
      "source": [
        "mc = ModelCheckpoint('best_model.h5', monitor='val_accuracy',\n",
        "                     mode='max', verbose=1, save_best_only=True)"
      ],
      "metadata": {
        "id": "_fO1YtGJDTmY"
      },
      "execution_count": 19,
      "outputs": []
    },
    {
      "cell_type": "code",
      "source": [
        "def fit_sequential(X_train, X_test, sequential=None, epochs=20, patience=5):\n",
        "\n",
        "    if sequential is None:\n",
        "        input_size = X_train.shape[1]\n",
        "\n",
        "        sequential = tf.keras.models.Sequential([\n",
        "            tf.keras.layers.Flatten(input_shape=(input_size, )),\n",
        "            tf.keras.layers.Dense(128),\n",
        "            tf.keras.layers.Dropout(0.2),\n",
        "            tf.keras.layers.Dense(3, activation='sigmoid')\n",
        "        ])\n",
        "        loss_fn = tf.keras.losses.SparseCategoricalCrossentropy(\n",
        "            from_logits=True)\n",
        "        sequential.compile(optimizer='adam', loss=loss_fn,\n",
        "                           metrics=['accuracy'])\n",
        "        global mc\n",
        "        mc = ModelCheckpoint('best_model.h5', monitor='val_accuracy',\n",
        "                             mode='max', verbose=1, save_best_only=True)\n",
        "\n",
        "    es = EarlyStopping(monitor='val_accuracy', mode='max',\n",
        "                       verbose=1, patience=patience)\n",
        "    sequential.fit(X_train, np.array(y_train), epochs=epochs, verbose=1,\n",
        "                   validation_data=(X_test, np.array(y_test)), callbacks=[es, mc])\n",
        "    sequential.load_weights('best_model.h5')\n",
        "    return sequential"
      ],
      "metadata": {
        "id": "SgaipnD4DW07"
      },
      "execution_count": 20,
      "outputs": []
    },
    {
      "cell_type": "code",
      "source": [
        "vectorizer = TfidfVectorizer()\n",
        "def convert_sparse_matrix_to_sparse_tensor(X):\n",
        "    coo = X.tocoo()\n",
        "    indices = np.mat([coo.row, coo.col]).transpose()\n",
        "    return tf.sparse.reorder(tf.SparseTensor(indices, coo.data, coo.shape))\n",
        "X_train_vectorized = vectorizer.fit_transform(X_train).toarray()\n",
        "X_test_vectorized = vectorizer.transform(X_test).toarray()\n",
        "sequential = fit_sequential(X_train_vectorized, X_test_vectorized)"
      ],
      "metadata": {
        "colab": {
          "base_uri": "https://localhost:8080/"
        },
        "id": "ySPTzfYgDcUw",
        "outputId": "7d6343a4-14dd-4146-9c76-1591c9ba9248"
      },
      "execution_count": 21,
      "outputs": [
        {
          "output_type": "stream",
          "name": "stdout",
          "text": [
            "Epoch 1/20\n"
          ]
        },
        {
          "output_type": "stream",
          "name": "stderr",
          "text": [
            "/usr/local/lib/python3.7/dist-packages/tensorflow/python/util/dispatch.py:1082: UserWarning: \"`sparse_categorical_crossentropy` received `from_logits=True`, but the `output` argument was produced by a sigmoid or softmax activation and thus does not represent logits. Was this intended?\"\n",
            "  return dispatch_target(*args, **kwargs)\n"
          ]
        },
        {
          "output_type": "stream",
          "name": "stdout",
          "text": [
            "10/12 [========================>.....] - ETA: 0s - loss: 1.0898 - accuracy: 0.3750\n",
            "Epoch 1: val_accuracy improved from -inf to 0.48000, saving model to best_model.h5\n",
            "12/12 [==============================] - 4s 151ms/step - loss: 1.0859 - accuracy: 0.3914 - val_loss: 1.0721 - val_accuracy: 0.4800\n",
            "Epoch 2/20\n",
            "12/12 [==============================] - ETA: 0s - loss: 0.9824 - accuracy: 0.7212\n",
            "Epoch 2: val_accuracy improved from 0.48000 to 0.50400, saving model to best_model.h5\n",
            "12/12 [==============================] - 1s 56ms/step - loss: 0.9824 - accuracy: 0.7212 - val_loss: 1.0416 - val_accuracy: 0.5040\n",
            "Epoch 3/20\n",
            "11/12 [==========================>...] - ETA: 0s - loss: 0.8844 - accuracy: 0.8153\n",
            "Epoch 3: val_accuracy improved from 0.50400 to 0.54400, saving model to best_model.h5\n",
            "12/12 [==============================] - 1s 47ms/step - loss: 0.8803 - accuracy: 0.8177 - val_loss: 1.0049 - val_accuracy: 0.5440\n",
            "Epoch 4/20\n",
            " 8/12 [===================>..........] - ETA: 0s - loss: 0.7821 - accuracy: 0.8867\n",
            "Epoch 4: val_accuracy improved from 0.54400 to 0.60000, saving model to best_model.h5\n",
            "12/12 [==============================] - 0s 38ms/step - loss: 0.7706 - accuracy: 0.8767 - val_loss: 0.9618 - val_accuracy: 0.6000\n",
            "Epoch 5/20\n",
            "12/12 [==============================] - ETA: 0s - loss: 0.6563 - accuracy: 0.9223\n",
            "Epoch 5: val_accuracy improved from 0.60000 to 0.63200, saving model to best_model.h5\n",
            "12/12 [==============================] - 0s 20ms/step - loss: 0.6563 - accuracy: 0.9223 - val_loss: 0.9151 - val_accuracy: 0.6320\n",
            "Epoch 6/20\n",
            "10/12 [========================>.....] - ETA: 0s - loss: 0.5474 - accuracy: 0.9625\n",
            "Epoch 6: val_accuracy improved from 0.63200 to 0.64000, saving model to best_model.h5\n",
            "12/12 [==============================] - 0s 31ms/step - loss: 0.5435 - accuracy: 0.9571 - val_loss: 0.8631 - val_accuracy: 0.6400\n",
            "Epoch 7/20\n",
            "12/12 [==============================] - ETA: 0s - loss: 0.4430 - accuracy: 0.9759\n",
            "Epoch 7: val_accuracy improved from 0.64000 to 0.68800, saving model to best_model.h5\n",
            "12/12 [==============================] - 0s 23ms/step - loss: 0.4430 - accuracy: 0.9759 - val_loss: 0.8159 - val_accuracy: 0.6880\n",
            "Epoch 8/20\n",
            "11/12 [==========================>...] - ETA: 0s - loss: 0.3522 - accuracy: 0.9886\n",
            "Epoch 8: val_accuracy improved from 0.68800 to 0.69600, saving model to best_model.h5\n",
            "12/12 [==============================] - 0s 32ms/step - loss: 0.3550 - accuracy: 0.9866 - val_loss: 0.7856 - val_accuracy: 0.6960\n",
            "Epoch 9/20\n",
            "12/12 [==============================] - ETA: 0s - loss: 0.2821 - accuracy: 0.9893\n",
            "Epoch 9: val_accuracy did not improve from 0.69600\n",
            "12/12 [==============================] - 0s 16ms/step - loss: 0.2821 - accuracy: 0.9893 - val_loss: 0.7644 - val_accuracy: 0.6800\n",
            "Epoch 10/20\n",
            " 8/12 [===================>..........] - ETA: 0s - loss: 0.2427 - accuracy: 0.9883\n",
            "Epoch 10: val_accuracy did not improve from 0.69600\n",
            "12/12 [==============================] - 0s 13ms/step - loss: 0.2281 - accuracy: 0.9893 - val_loss: 0.7464 - val_accuracy: 0.6880\n",
            "Epoch 11/20\n",
            " 8/12 [===================>..........] - ETA: 0s - loss: 0.1925 - accuracy: 0.9883\n",
            "Epoch 11: val_accuracy did not improve from 0.69600\n",
            "12/12 [==============================] - 0s 13ms/step - loss: 0.1824 - accuracy: 0.9893 - val_loss: 0.7376 - val_accuracy: 0.6960\n",
            "Epoch 12/20\n",
            " 7/12 [================>.............] - ETA: 0s - loss: 0.1447 - accuracy: 0.9911\n",
            "Epoch 12: val_accuracy improved from 0.69600 to 0.70400, saving model to best_model.h5\n",
            "12/12 [==============================] - 0s 19ms/step - loss: 0.1477 - accuracy: 0.9893 - val_loss: 0.7307 - val_accuracy: 0.7040\n",
            "Epoch 13/20\n",
            "12/12 [==============================] - ETA: 0s - loss: 0.1234 - accuracy: 0.9920\n",
            "Epoch 13: val_accuracy did not improve from 0.70400\n",
            "12/12 [==============================] - 0s 31ms/step - loss: 0.1234 - accuracy: 0.9920 - val_loss: 0.7317 - val_accuracy: 0.6880\n",
            "Epoch 14/20\n",
            "12/12 [==============================] - ETA: 0s - loss: 0.1033 - accuracy: 0.9946\n",
            "Epoch 14: val_accuracy did not improve from 0.70400\n",
            "12/12 [==============================] - 0s 18ms/step - loss: 0.1033 - accuracy: 0.9946 - val_loss: 0.7310 - val_accuracy: 0.6880\n",
            "Epoch 15/20\n",
            " 7/12 [================>.............] - ETA: 0s - loss: 0.0919 - accuracy: 0.9955\n",
            "Epoch 15: val_accuracy did not improve from 0.70400\n",
            "12/12 [==============================] - 0s 18ms/step - loss: 0.0864 - accuracy: 0.9973 - val_loss: 0.7328 - val_accuracy: 0.6800\n",
            "Epoch 16/20\n",
            "11/12 [==========================>...] - ETA: 0s - loss: 0.0732 - accuracy: 1.0000\n",
            "Epoch 16: val_accuracy did not improve from 0.70400\n",
            "12/12 [==============================] - 0s 20ms/step - loss: 0.0739 - accuracy: 1.0000 - val_loss: 0.7340 - val_accuracy: 0.6880\n",
            "Epoch 17/20\n",
            " 8/12 [===================>..........] - ETA: 0s - loss: 0.0650 - accuracy: 1.0000\n",
            "Epoch 17: val_accuracy did not improve from 0.70400\n",
            "12/12 [==============================] - 0s 17ms/step - loss: 0.0643 - accuracy: 1.0000 - val_loss: 0.7377 - val_accuracy: 0.6800\n",
            "Epoch 17: early stopping\n"
          ]
        }
      ]
    },
    {
      "cell_type": "markdown",
      "metadata": {
        "id": "A_qgmy2YfReZ"
      },
      "source": [
        "# **Question 3: Create your own word embedding model**"
      ]
    },
    {
      "cell_type": "markdown",
      "metadata": {
        "id": "1Yp61VFEfReZ"
      },
      "source": [
        "(20 points). Use the data you collected for assignment two to build a word embedding model: \n",
        "\n",
        "(1) Train a 300-dimension word embedding (it can be word2vec, glove, ulmfit, bert, or others).\n",
        "\n",
        "(2) Visualize the word embedding model you created.\n",
        "\n",
        "Reference: https://machinelearningmastery.com/develop-word-embeddings-python-gensim/\n",
        "\n",
        "Reference: https://jaketae.github.io/study/word2vec/"
      ]
    },
    {
      "cell_type": "code",
      "source": [
        "class W2VTransformer(BaseEstimator, TransformerMixin):\n",
        "    def __init__(self, size):\n",
        "        self.size = size\n",
        "        pass\n",
        "\n",
        "    def fit(self, X, y=None):\n",
        "        self.model = Word2Vec(min_count=1,\n",
        "                              window=2,\n",
        "                              size=self.size,\n",
        "                              sample=6e-5,\n",
        "                              alpha=0.03,\n",
        "                              min_alpha=0.0007,\n",
        "                              negative=20)\n",
        "        sentences = [row.split() for row in X]\n",
        "\n",
        "        self.model.build_vocab(sentences)\n",
        "        self.model.train(\n",
        "            sentences, total_examples=self.model.corpus_count, epochs=self.model.epochs)\n",
        "        return self\n",
        "\n",
        "    def get_vector(self, sentence):\n",
        "        relevant_words_vectors = [self.model.wv[x]\n",
        "                                  for x in sentence.split() if x in self.model.wv.vocab]\n",
        "        if not relevant_words_vectors:\n",
        "            return np.zeros(self.model.vector_size)  # .astype('float32')\n",
        "        return np.mean(relevant_words_vectors, axis=0)\n",
        "\n",
        "    def transform(self, X):\n",
        "        arr = np.array([])\n",
        "        for elem in X:\n",
        "            arr = np.concatenate([arr, self.get_vector(elem)])\n",
        "        return arr.reshape(-1, self.size)"
      ],
      "metadata": {
        "id": "rvd1o8R8Dk_K"
      },
      "execution_count": 22,
      "outputs": []
    },
    {
      "cell_type": "code",
      "source": [
        "vectorizer = W2VTransformer(4)\n",
        "X_train_vectorized = vectorizer.fit_transform(X_train)\n",
        "X_test_vectorized = vectorizer.transform(X_test)"
      ],
      "metadata": {
        "colab": {
          "base_uri": "https://localhost:8080/"
        },
        "id": "dPptzyiYDvNW",
        "outputId": "6a6aa6f9-27d8-4105-dae1-010b97a2218e"
      },
      "execution_count": 23,
      "outputs": [
        {
          "output_type": "stream",
          "name": "stderr",
          "text": [
            "WARNING:gensim.models.base_any2vec:under 10 jobs per worker: consider setting a smaller `batch_words' for smoother alpha decay\n"
          ]
        }
      ]
    },
    {
      "cell_type": "code",
      "source": [
        "sequential = fit_sequential(X_train_vectorized, X_test_vectorized)"
      ],
      "metadata": {
        "colab": {
          "base_uri": "https://localhost:8080/"
        },
        "id": "Zoo9_QwxDzYU",
        "outputId": "a440d825-9373-4cee-e5b8-d06801396303"
      },
      "execution_count": 24,
      "outputs": [
        {
          "output_type": "stream",
          "name": "stdout",
          "text": [
            "Epoch 1/20\n",
            " 1/12 [=>............................] - ETA: 4s - loss: 1.0978 - accuracy: 0.3125\n",
            "Epoch 1: val_accuracy improved from -inf to 0.30400, saving model to best_model.h5\n",
            "12/12 [==============================] - 1s 21ms/step - loss: 1.0939 - accuracy: 0.3673 - val_loss: 1.1046 - val_accuracy: 0.3040\n",
            "Epoch 2/20\n",
            " 1/12 [=>............................] - ETA: 0s - loss: 1.1023 - accuracy: 0.3125\n",
            "Epoch 2: val_accuracy did not improve from 0.30400\n",
            "12/12 [==============================] - 0s 7ms/step - loss: 1.0856 - accuracy: 0.3753 - val_loss: 1.1099 - val_accuracy: 0.2960\n",
            "Epoch 3/20\n",
            " 1/12 [=>............................] - ETA: 0s - loss: 1.0794 - accuracy: 0.5000\n",
            "Epoch 3: val_accuracy improved from 0.30400 to 0.33600, saving model to best_model.h5\n",
            "12/12 [==============================] - 0s 7ms/step - loss: 1.0822 - accuracy: 0.3807 - val_loss: 1.1168 - val_accuracy: 0.3360\n",
            "Epoch 4/20\n",
            " 1/12 [=>............................] - ETA: 0s - loss: 1.0819 - accuracy: 0.3750\n",
            "Epoch 4: val_accuracy improved from 0.33600 to 0.36000, saving model to best_model.h5\n",
            "12/12 [==============================] - 0s 8ms/step - loss: 1.0801 - accuracy: 0.3673 - val_loss: 1.1199 - val_accuracy: 0.3600\n",
            "Epoch 5/20\n",
            " 1/12 [=>............................] - ETA: 0s - loss: 1.0886 - accuracy: 0.4062\n",
            "Epoch 5: val_accuracy did not improve from 0.36000\n",
            "12/12 [==============================] - 0s 7ms/step - loss: 1.0796 - accuracy: 0.3646 - val_loss: 1.1256 - val_accuracy: 0.3200\n",
            "Epoch 6/20\n",
            " 1/12 [=>............................] - ETA: 0s - loss: 1.0551 - accuracy: 0.4062\n",
            "Epoch 6: val_accuracy did not improve from 0.36000\n",
            "12/12 [==============================] - 0s 6ms/step - loss: 1.0789 - accuracy: 0.3914 - val_loss: 1.1259 - val_accuracy: 0.3600\n",
            "Epoch 7/20\n",
            " 1/12 [=>............................] - ETA: 0s - loss: 1.0605 - accuracy: 0.5312\n",
            "Epoch 7: val_accuracy did not improve from 0.36000\n",
            "12/12 [==============================] - 0s 7ms/step - loss: 1.0780 - accuracy: 0.4236 - val_loss: 1.1243 - val_accuracy: 0.3440\n",
            "Epoch 8/20\n",
            " 1/12 [=>............................] - ETA: 0s - loss: 1.0687 - accuracy: 0.3438\n",
            "Epoch 8: val_accuracy did not improve from 0.36000\n",
            "12/12 [==============================] - 0s 5ms/step - loss: 1.0780 - accuracy: 0.4048 - val_loss: 1.1214 - val_accuracy: 0.3360\n",
            "Epoch 9/20\n",
            " 1/12 [=>............................] - ETA: 0s - loss: 1.0754 - accuracy: 0.5312\n",
            "Epoch 9: val_accuracy did not improve from 0.36000\n",
            "12/12 [==============================] - 0s 6ms/step - loss: 1.0773 - accuracy: 0.3968 - val_loss: 1.1232 - val_accuracy: 0.3360\n",
            "Epoch 9: early stopping\n"
          ]
        }
      ]
    },
    {
      "cell_type": "code",
      "source": [
        "pca = PCA(n_components=2)\n",
        "X_train_vectorized_2d = pca.fit_transform(X_train_vectorized)"
      ],
      "metadata": {
        "id": "0PjXwlZPD212"
      },
      "execution_count": 25,
      "outputs": []
    },
    {
      "cell_type": "code",
      "source": [
        "plt.figure(figsize=(14, 8))\n",
        "_ = sns.scatterplot(\n",
        "    X_train_vectorized_2d[:, 0], X_train_vectorized_2d[:, 1], hue=y_train)"
      ],
      "metadata": {
        "colab": {
          "base_uri": "https://localhost:8080/",
          "height": 483
        },
        "id": "Bhv6Wq3fD5mg",
        "outputId": "ee16e094-7f44-40bc-d995-24ede0df693c"
      },
      "execution_count": 26,
      "outputs": [
        {
          "output_type": "display_data",
          "data": {
            "text/plain": [
              "<Figure size 1008x576 with 1 Axes>"
            ],
            "image/png": "[encoded data removed]"
          },
          "metadata": {
            "needs_background": "light"
          }
        }
      ]
    },
    {
      "cell_type": "markdown",
      "metadata": {
        "id": "E5mmYIfN8eYV"
      },
      "source": [
        "# **Question 4: Create your own training and evaluation data for sentiment analysis**"
      ]
    },
    {
      "cell_type": "code",
      "source": [
        "model_class, tokenizer_class, pretrained_weights = (\n",
        "    transformers.DistilBertModel, transformers.DistilBertTokenizer, 'distilbert-base-uncased')\n",
        "tokenizer = tokenizer_class.from_pretrained(pretrained_weights)\n",
        "model = model_class.from_pretrained(pretrained_weights)\n"
      ],
      "metadata": {
        "colab": {
          "base_uri": "https://localhost:8080/",
          "height": 217,
          "referenced_widgets": [
            "bcec8424aa26460ba05cd921cf7ee051",
            "e2efd2a03a1141ec82f385c2750ab6ac",
            "ed6332627e96485ea400a1594e159cc6",
            "fa0386e92d384291a6d5419537926f62",
            "79108d590dcf4db38a012a04169059c0",
            "7920b4cfaa3b4638997f4e05b6072ba1",
            "a41668078a1242fc872151afed5c04af",
            "4e35d651b15a4dc285d7f6794452fa59",
            "ddc424bf8bd64ec4abe0ea4e6a3f1d7d",
            "40b6bc5d9a0f4369a526351727c3c9cf",
            "027c1d9d3db8425aab52c4f44f9cf024",
            "ed7bf1e8436b4e188257ab7f91539e23",
            "41eb1e025fa448d3aca4b96e92273562",
            "832546354a074b61b7289dc932744548",
            "118327d9c7b2483884f3ab784873db54",
            "9eb8c19a9b5544618d1dfa024a07894d",
            "b5919639627748b190bc90ca3e1c0cee",
            "744fd5584ef54892a06c08de2a2dc87d",
            "b38934115415457cb6af8eaea5fc89a7",
            "90069904a3d64c029608d0bbd159f168",
            "e77265c81e734f669b2c9d888be55f40",
            "7afcacdabb4244efa607730ba0d05f51",
            "2eadbdeb976d47c0aa04eecb461d2797",
            "a65088b54ce740c4aaca0b1cd164a30c",
            "bd6a157550f446a6bbae0ea6bea57150",
            "037ed07384e94a74b6041b5868a10764",
            "8b1d716694ee4d45b47b6c1ca3ccfe4d",
            "9eefd876c5b741f8960c65b9a353645e",
            "20d49c4cbf31476ca53b5c1d907cff0a",
            "9b86bb083eb24e2aa1ce5819c29a9006",
            "dea5291549064bf7bf6e74df1ee7b7d5",
            "7cab08ab78804211841597fef493d296",
            "960a9f61b8ad4b75b8bfb44703cdd2dd",
            "a438ab5e0c624cb7956899f9fb9624e9",
            "27a71ffacbef4064b737fb579b79057d",
            "d887dce087c342878fcb986041122c56",
            "ff9c4d516d1540ac8acb9537d5059dc6",
            "a5db0ee010c8432c96d504c5f024a502",
            "c0a5a3e2fc3941868ecade1805568c2a",
            "6c1535ac99644024a0b4cac8e291e2c0",
            "7d9216c50d664992a90280af42cbc705",
            "6b984b75af13474d910aaa5a7241ad6c",
            "164f9dd908a34980ae38f141fd0b6446",
            "fe9f5fc30b1a4d4c872d583fa0d6d4e7"
          ]
        },
        "id": "pT5SGlgcDiam",
        "outputId": "5bf1ccb9-b163-4ae0-dfee-e497e33f88bb"
      },
      "execution_count": 27,
      "outputs": [
        {
          "output_type": "display_data",
          "data": {
            "text/plain": [
              "Downloading:   0%|          | 0.00/232k [00:00<?, ?B/s]"
            ],
            "application/vnd.jupyter.widget-view+json": {
              "version_major": 2,
              "version_minor": 0,
              "model_id": "bcec8424aa26460ba05cd921cf7ee051"
            }
          },
          "metadata": {}
        },
        {
          "output_type": "display_data",
          "data": {
            "text/plain": [
              "Downloading:   0%|          | 0.00/28.0 [00:00<?, ?B/s]"
            ],
            "application/vnd.jupyter.widget-view+json": {
              "version_major": 2,
              "version_minor": 0,
              "model_id": "ed7bf1e8436b4e188257ab7f91539e23"
            }
          },
          "metadata": {}
        },
        {
          "output_type": "display_data",
          "data": {
            "text/plain": [
              "Downloading:   0%|          | 0.00/483 [00:00<?, ?B/s]"
            ],
            "application/vnd.jupyter.widget-view+json": {
              "version_major": 2,
              "version_minor": 0,
              "model_id": "2eadbdeb976d47c0aa04eecb461d2797"
            }
          },
          "metadata": {}
        },
        {
          "output_type": "display_data",
          "data": {
            "text/plain": [
              "Downloading:   0%|          | 0.00/268M [00:00<?, ?B/s]"
            ],
            "application/vnd.jupyter.widget-view+json": {
              "version_major": 2,
              "version_minor": 0,
              "model_id": "a438ab5e0c624cb7956899f9fb9624e9"
            }
          },
          "metadata": {}
        },
        {
          "output_type": "stream",
          "name": "stderr",
          "text": [
            "Some weights of the model checkpoint at distilbert-base-uncased were not used when initializing DistilBertModel: ['vocab_projector.weight', 'vocab_transform.weight', 'vocab_projector.bias', 'vocab_layer_norm.bias', 'vocab_transform.bias', 'vocab_layer_norm.weight']\n",
            "- This IS expected if you are initializing DistilBertModel from the checkpoint of a model trained on another task or with another architecture (e.g. initializing a BertForSequenceClassification model from a BertForPreTraining model).\n",
            "- This IS NOT expected if you are initializing DistilBertModel from the checkpoint of a model that you expect to be exactly identical (initializing a BertForSequenceClassification model from a BertForSequenceClassification model).\n"
          ]
        }
      ]
    },
    {
      "cell_type": "code",
      "source": [
        "def get_vectors():\n",
        "    start = time.time()\n",
        "    k = 1000\n",
        "    for i in range(0, len(all_sentences), k):\n",
        "        with torch.no_grad():\n",
        "            last_hidden_states = model(\n",
        "                input_ids[i:i+k], attention_mask=input_ids[i:i+k])\n",
        "        vectors = np.concatenate([vectors, last_hidden_states[0].numpy(\n",
        "        )[:, 0, :]]) if i > 0 else last_hidden_states[0].numpy()[:, 0, :]\n",
        "    return vectors"
      ],
      "metadata": {
        "id": "z1mt2pYsEAML"
      },
      "execution_count": 28,
      "outputs": []
    },
    {
      "cell_type": "code",
      "source": [
        "sequential = fit_sequential(X_train_vectorized, X_test_vectorized, epochs=10)"
      ],
      "metadata": {
        "colab": {
          "base_uri": "https://localhost:8080/"
        },
        "id": "AkDXSF2TEJqk",
        "outputId": "8de04ae1-7cbc-421d-c1a7-25a0c8eca15d"
      },
      "execution_count": 29,
      "outputs": [
        {
          "output_type": "stream",
          "name": "stdout",
          "text": [
            "Epoch 1/10\n"
          ]
        },
        {
          "output_type": "stream",
          "name": "stderr",
          "text": [
            "/usr/local/lib/python3.7/dist-packages/tensorflow/python/util/dispatch.py:1082: UserWarning: \"`sparse_categorical_crossentropy` received `from_logits=True`, but the `output` argument was produced by a sigmoid or softmax activation and thus does not represent logits. Was this intended?\"\n",
            "  return dispatch_target(*args, **kwargs)\n"
          ]
        },
        {
          "output_type": "stream",
          "name": "stdout",
          "text": [
            "\r 1/12 [=>............................] - ETA: 7s - loss: 1.0974 - accuracy: 0.3438\n",
            "Epoch 1: val_accuracy improved from -inf to 0.32000, saving model to best_model.h5\n",
            "12/12 [==============================] - 1s 36ms/step - loss: 1.0936 - accuracy: 0.3646 - val_loss: 1.1053 - val_accuracy: 0.3200\n",
            "Epoch 2/10\n",
            " 1/12 [=>............................] - ETA: 0s - loss: 1.0988 - accuracy: 0.3438\n",
            "Epoch 2: val_accuracy did not improve from 0.32000\n",
            "12/12 [==============================] - 0s 9ms/step - loss: 1.0838 - accuracy: 0.3807 - val_loss: 1.1139 - val_accuracy: 0.3200\n",
            "Epoch 3/10\n",
            " 1/12 [=>............................] - ETA: 0s - loss: 1.0911 - accuracy: 0.3125\n",
            "Epoch 3: val_accuracy did not improve from 0.32000\n",
            "12/12 [==============================] - 0s 10ms/step - loss: 1.0806 - accuracy: 0.3566 - val_loss: 1.1221 - val_accuracy: 0.2960\n",
            "Epoch 4/10\n",
            " 1/12 [=>............................] - ETA: 0s - loss: 1.0699 - accuracy: 0.5312\n",
            "Epoch 4: val_accuracy did not improve from 0.32000\n",
            "12/12 [==============================] - 0s 9ms/step - loss: 1.0795 - accuracy: 0.3753 - val_loss: 1.1277 - val_accuracy: 0.3120\n",
            "Epoch 5/10\n",
            " 1/12 [=>............................] - ETA: 0s - loss: 1.1156 - accuracy: 0.3438\n",
            "Epoch 5: val_accuracy did not improve from 0.32000\n",
            "12/12 [==============================] - 0s 8ms/step - loss: 1.0796 - accuracy: 0.3995 - val_loss: 1.1269 - val_accuracy: 0.3120\n",
            "Epoch 6/10\n",
            " 1/12 [=>............................] - ETA: 0s - loss: 1.0942 - accuracy: 0.3125\n",
            "Epoch 6: val_accuracy improved from 0.32000 to 0.34400, saving model to best_model.h5\n",
            "12/12 [==============================] - 0s 12ms/step - loss: 1.0786 - accuracy: 0.3834 - val_loss: 1.1248 - val_accuracy: 0.3440\n",
            "Epoch 7/10\n",
            " 9/12 [=====================>........] - ETA: 0s - loss: 1.0830 - accuracy: 0.3681\n",
            "Epoch 7: val_accuracy did not improve from 0.34400\n",
            "12/12 [==============================] - 0s 11ms/step - loss: 1.0791 - accuracy: 0.3780 - val_loss: 1.1231 - val_accuracy: 0.3360\n",
            "Epoch 8/10\n",
            "10/12 [========================>.....] - ETA: 0s - loss: 1.0833 - accuracy: 0.3844\n",
            "Epoch 8: val_accuracy did not improve from 0.34400\n",
            "12/12 [==============================] - 0s 13ms/step - loss: 1.0786 - accuracy: 0.3887 - val_loss: 1.1206 - val_accuracy: 0.3360\n",
            "Epoch 9/10\n",
            " 1/12 [=>............................] - ETA: 0s - loss: 1.1293 - accuracy: 0.3438\n",
            "Epoch 9: val_accuracy improved from 0.34400 to 0.36000, saving model to best_model.h5\n",
            "12/12 [==============================] - 0s 12ms/step - loss: 1.0770 - accuracy: 0.3941 - val_loss: 1.1227 - val_accuracy: 0.3600\n",
            "Epoch 10/10\n",
            " 1/12 [=>............................] - ETA: 0s - loss: 1.0676 - accuracy: 0.5000\n",
            "Epoch 10: val_accuracy did not improve from 0.36000\n",
            "12/12 [==============================] - 0s 9ms/step - loss: 1.0777 - accuracy: 0.3968 - val_loss: 1.1208 - val_accuracy: 0.3440\n"
          ]
        }
      ]
    },
    {
      "cell_type": "code",
      "source": [
        "vectorizer = W2VTransformer(4)\n",
        "X_train_vectorized = vectorizer.fit_transform(X_train)\n",
        "X_test_vectorized = vectorizer.transform(X_test)\n",
        "sequential = fit_sequential(X_train_vectorized, X_test_vectorized)\n",
        "mapper = {0: \"negative\", 1: \"neutral\", 2: \"positive\"}\n",
        "\n",
        "\n",
        "def get_sentiment(model, vectorizer, mapper, text):\n",
        "    return mapper.get(np.argmax(max(model.predict(vectorizer.transform(pd.Series([text]))))))"
      ],
      "metadata": {
        "colab": {
          "base_uri": "https://localhost:8080/"
        },
        "id": "-GFhxiHvEMn6",
        "outputId": "e0e177ed-2214-4384-ff11-ac88b0f786d4"
      },
      "execution_count": 30,
      "outputs": [
        {
          "output_type": "stream",
          "name": "stderr",
          "text": [
            "WARNING:gensim.models.base_any2vec:under 10 jobs per worker: consider setting a smaller `batch_words' for smoother alpha decay\n"
          ]
        },
        {
          "output_type": "stream",
          "name": "stdout",
          "text": [
            "Epoch 1/20\n",
            " 1/12 [=>............................] - ETA: 7s - loss: 1.0992 - accuracy: 0.3750\n",
            "Epoch 1: val_accuracy improved from -inf to 0.34400, saving model to best_model.h5\n",
            "12/12 [==============================] - 1s 36ms/step - loss: 1.0947 - accuracy: 0.3539 - val_loss: 1.1027 - val_accuracy: 0.3440\n",
            "Epoch 2/20\n",
            " 1/12 [=>............................] - ETA: 0s - loss: 1.1012 - accuracy: 0.3750\n",
            "Epoch 2: val_accuracy did not improve from 0.34400\n",
            "12/12 [==============================] - 0s 8ms/step - loss: 1.0852 - accuracy: 0.3753 - val_loss: 1.1084 - val_accuracy: 0.2960\n",
            "Epoch 3/20\n",
            "12/12 [==============================] - ETA: 0s - loss: 1.0834 - accuracy: 0.3673\n",
            "Epoch 3: val_accuracy did not improve from 0.34400\n",
            "12/12 [==============================] - 0s 10ms/step - loss: 1.0834 - accuracy: 0.3673 - val_loss: 1.1174 - val_accuracy: 0.3280\n",
            "Epoch 4/20\n",
            " 1/12 [=>............................] - ETA: 0s - loss: 1.0473 - accuracy: 0.4688\n",
            "Epoch 4: val_accuracy improved from 0.34400 to 0.36800, saving model to best_model.h5\n",
            "12/12 [==============================] - 0s 12ms/step - loss: 1.0800 - accuracy: 0.3673 - val_loss: 1.1204 - val_accuracy: 0.3680\n",
            "Epoch 5/20\n",
            " 9/12 [=====================>........] - ETA: 0s - loss: 1.0704 - accuracy: 0.3819\n",
            "Epoch 5: val_accuracy did not improve from 0.36800\n",
            "12/12 [==============================] - 0s 13ms/step - loss: 1.0802 - accuracy: 0.3753 - val_loss: 1.1244 - val_accuracy: 0.3520\n",
            "Epoch 6/20\n",
            " 1/12 [=>............................] - ETA: 0s - loss: 1.0756 - accuracy: 0.4062\n",
            "Epoch 6: val_accuracy did not improve from 0.36800\n",
            "12/12 [==============================] - 0s 9ms/step - loss: 1.0795 - accuracy: 0.4102 - val_loss: 1.1249 - val_accuracy: 0.3520\n",
            "Epoch 7/20\n",
            "10/12 [========================>.....] - ETA: 0s - loss: 1.0736 - accuracy: 0.4125\n",
            "Epoch 7: val_accuracy did not improve from 0.36800\n",
            "12/12 [==============================] - 0s 12ms/step - loss: 1.0774 - accuracy: 0.3995 - val_loss: 1.1234 - val_accuracy: 0.3200\n",
            "Epoch 8/20\n",
            " 1/12 [=>............................] - ETA: 0s - loss: 1.0788 - accuracy: 0.3750\n",
            "Epoch 8: val_accuracy did not improve from 0.36800\n",
            "12/12 [==============================] - 0s 9ms/step - loss: 1.0785 - accuracy: 0.3673 - val_loss: 1.1204 - val_accuracy: 0.3360\n",
            "Epoch 9/20\n",
            " 9/12 [=====================>........] - ETA: 0s - loss: 1.0742 - accuracy: 0.4201\n",
            "Epoch 9: val_accuracy did not improve from 0.36800\n",
            "12/12 [==============================] - 0s 12ms/step - loss: 1.0779 - accuracy: 0.4021 - val_loss: 1.1213 - val_accuracy: 0.3280\n",
            "Epoch 9: early stopping\n"
          ]
        }
      ]
    },
    {
      "cell_type": "code",
      "source": [
        "get_sentiment(sequential, vectorizer, mapper, \"The new big one is huge\")"
      ],
      "metadata": {
        "colab": {
          "base_uri": "https://localhost:8080/",
          "height": 53
        },
        "id": "SuX0C5V4EQ2i",
        "outputId": "66c5b807-8f9e-4342-dad8-46fa68623983"
      },
      "execution_count": 31,
      "outputs": [
        {
          "output_type": "stream",
          "name": "stdout",
          "text": [
            "1/1 [==============================] - 1s 540ms/step\n"
          ]
        },
        {
          "output_type": "execute_result",
          "data": {
            "text/plain": [
              "'positive'"
            ],
            "application/vnd.google.colaboratory.intrinsic+json": {
              "type": "string"
            }
          },
          "metadata": {},
          "execution_count": 31
        }
      ]
    },
    {
      "cell_type": "markdown",
      "metadata": {
        "id": "hsi2y4z88ngX"
      },
      "source": [
        "(15 points). **You dodn't need to write program for this question!** Read each review (abstract or tweet) you collected in detail, and annotate each review with a sentiment (positive, negative, or neutral). Save the annotated dataset into a csv file with three columns (first column: document_id, clean_text, sentiment), upload the csv file to GitHub and submit the file link blew. This datset will be used for assignment four: sentiment analysis and text classification. \n"
      ]
    },
    {
      "cell_type": "code",
      "execution_count": null,
      "metadata": {
        "id": "XfvMKJjIXS5G"
      },
      "outputs": [],
      "source": [
        "# The GitHub link of your final csv file\n",
        "\n",
        "\n",
        "\n",
        "# Link:\n",
        "https://github.com/shubhika1723/shubhika_INFO5731_Spring2020/blob/main/twitter.csv\n",
        "\n"
      ]
    }
  ],
  "metadata": {
    "colab": {
      "provenance": [],
      "include_colab_link": true
    },
    "kernelspec": {
      "display_name": "Python 3 (ipykernel)",
      "language": "python",
      "name": "python3"
    },
    "language_info": {
      "codemirror_mode": {
        "name": "ipython",
        "version": 3
      },
      "file_extension": ".py",
      "mimetype": "text/x-python",
      "name": "python",
      "nbconvert_exporter": "python",
      "pygments_lexer": "ipython3",
      "version": "3.9.12"
    },
    "widgets": {
      "application/vnd.jupyter.widget-state+json": {
        "bcec8424aa26460ba05cd921cf7ee051": {
          "model_module": "@jupyter-widgets/controls",
          "model_name": "HBoxModel",
          "model_module_version": "1.5.0",
          "state": {
            "_dom_classes": [],
            "_model_module": "@jupyter-widgets/controls",
            "_model_module_version": "1.5.0",
            "_model_name": "HBoxModel",
            "_view_count": null,
            "_view_module": "@jupyter-widgets/controls",
            "_view_module_version": "1.5.0",
            "_view_name": "HBoxView",
            "box_style": "",
            "children": [
              "IPY_MODEL_e2efd2a03a1141ec82f385c2750ab6ac",
              "IPY_MODEL_ed6332627e96485ea400a1594e159cc6",
              "IPY_MODEL_fa0386e92d384291a6d5419537926f62"
            ],
            "layout": "IPY_MODEL_79108d590dcf4db38a012a04169059c0"
          }
        },
        "e2efd2a03a1141ec82f385c2750ab6ac": {
          "model_module": "@jupyter-widgets/controls",
          "model_name": "HTMLModel",
          "model_module_version": "1.5.0",
          "state": {
            "_dom_classes": [],
            "_model_module": "@jupyter-widgets/controls",
            "_model_module_version": "1.5.0",
            "_model_name": "HTMLModel",
            "_view_count": null,
            "_view_module": "@jupyter-widgets/controls",
            "_view_module_version": "1.5.0",
            "_view_name": "HTMLView",
            "description": "",
            "description_tooltip": null,
            "layout": "IPY_MODEL_7920b4cfaa3b4638997f4e05b6072ba1",
            "placeholder": "​",
            "style": "IPY_MODEL_a41668078a1242fc872151afed5c04af",
            "value": "Downloading: 100%"
          }
        },
        "ed6332627e96485ea400a1594e159cc6": {
          "model_module": "@jupyter-widgets/controls",
          "model_name": "FloatProgressModel",
          "model_module_version": "1.5.0",
          "state": {
            "_dom_classes": [],
            "_model_module": "@jupyter-widgets/controls",
            "_model_module_version": "1.5.0",
            "_model_name": "FloatProgressModel",
            "_view_count": null,
            "_view_module": "@jupyter-widgets/controls",
            "_view_module_version": "1.5.0",
            "_view_name": "ProgressView",
            "bar_style": "success",
            "description": "",
            "description_tooltip": null,
            "layout": "IPY_MODEL_4e35d651b15a4dc285d7f6794452fa59",
            "max": 231508,
            "min": 0,
            "orientation": "horizontal",
            "style": "IPY_MODEL_ddc424bf8bd64ec4abe0ea4e6a3f1d7d",
            "value": 231508
          }
        },
        "fa0386e92d384291a6d5419537926f62": {
          "model_module": "@jupyter-widgets/controls",
          "model_name": "HTMLModel",
          "model_module_version": "1.5.0",
          "state": {
            "_dom_classes": [],
            "_model_module": "@jupyter-widgets/controls",
            "_model_module_version": "1.5.0",
            "_model_name": "HTMLModel",
            "_view_count": null,
            "_view_module": "@jupyter-widgets/controls",
            "_view_module_version": "1.5.0",
            "_view_name": "HTMLView",
            "description": "",
            "description_tooltip": null,
            "layout": "IPY_MODEL_40b6bc5d9a0f4369a526351727c3c9cf",
            "placeholder": "​",
            "style": "IPY_MODEL_027c1d9d3db8425aab52c4f44f9cf024",
            "value": " 232k/232k [00:00&lt;00:00, 6.67kB/s]"
          }
        },
        "79108d590dcf4db38a012a04169059c0": {
          "model_module": "@jupyter-widgets/base",
          "model_name": "LayoutModel",
          "model_module_version": "1.2.0",
          "state": {
            "_model_module": "@jupyter-widgets/base",
            "_model_module_version": "1.2.0",
            "_model_name": "LayoutModel",
            "_view_count": null,
            "_view_module": "@jupyter-widgets/base",
            "_view_module_version": "1.2.0",
            "_view_name": "LayoutView",
            "align_content": null,
            "align_items": null,
            "align_self": null,
            "border": null,
            "bottom": null,
            "display": null,
            "flex": null,
            "flex_flow": null,
            "grid_area": null,
            "grid_auto_columns": null,
            "grid_auto_flow": null,
            "grid_auto_rows": null,
            "grid_column": null,
            "grid_gap": null,
            "grid_row": null,
            "grid_template_areas": null,
            "grid_template_columns": null,
            "grid_template_rows": null,
            "height": null,
            "justify_content": null,
            "justify_items": null,
            "left": null,
            "margin": null,
            "max_height": null,
            "max_width": null,
            "min_height": null,
            "min_width": null,
            "object_fit": null,
            "object_position": null,
            "order": null,
            "overflow": null,
            "overflow_x": null,
            "overflow_y": null,
            "padding": null,
            "right": null,
            "top": null,
            "visibility": null,
            "width": null
          }
        },
        "7920b4cfaa3b4638997f4e05b6072ba1": {
          "model_module": "@jupyter-widgets/base",
          "model_name": "LayoutModel",
          "model_module_version": "1.2.0",
          "state": {
            "_model_module": "@jupyter-widgets/base",
            "_model_module_version": "1.2.0",
            "_model_name": "LayoutModel",
            "_view_count": null,
            "_view_module": "@jupyter-widgets/base",
            "_view_module_version": "1.2.0",
            "_view_name": "LayoutView",
            "align_content": null,
            "align_items": null,
            "align_self": null,
            "border": null,
            "bottom": null,
            "display": null,
            "flex": null,
            "flex_flow": null,
            "grid_area": null,
            "grid_auto_columns": null,
            "grid_auto_flow": null,
            "grid_auto_rows": null,
            "grid_column": null,
            "grid_gap": null,
            "grid_row": null,
            "grid_template_areas": null,
            "grid_template_columns": null,
            "grid_template_rows": null,
            "height": null,
            "justify_content": null,
            "justify_items": null,
            "left": null,
            "margin": null,
            "max_height": null,
            "max_width": null,
            "min_height": null,
            "min_width": null,
            "object_fit": null,
            "object_position": null,
            "order": null,
            "overflow": null,
            "overflow_x": null,
            "overflow_y": null,
            "padding": null,
            "right": null,
            "top": null,
            "visibility": null,
            "width": null
          }
        },
        "a41668078a1242fc872151afed5c04af": {
          "model_module": "@jupyter-widgets/controls",
          "model_name": "DescriptionStyleModel",
          "model_module_version": "1.5.0",
          "state": {
            "_model_module": "@jupyter-widgets/controls",
            "_model_module_version": "1.5.0",
            "_model_name": "DescriptionStyleModel",
            "_view_count": null,
            "_view_module": "@jupyter-widgets/base",
            "_view_module_version": "1.2.0",
            "_view_name": "StyleView",
            "description_width": ""
          }
        },
        "4e35d651b15a4dc285d7f6794452fa59": {
          "model_module": "@jupyter-widgets/base",
          "model_name": "LayoutModel",
          "model_module_version": "1.2.0",
          "state": {
            "_model_module": "@jupyter-widgets/base",
            "_model_module_version": "1.2.0",
            "_model_name": "LayoutModel",
            "_view_count": null,
            "_view_module": "@jupyter-widgets/base",
            "_view_module_version": "1.2.0",
            "_view_name": "LayoutView",
            "align_content": null,
            "align_items": null,
            "align_self": null,
            "border": null,
            "bottom": null,
            "display": null,
            "flex": null,
            "flex_flow": null,
            "grid_area": null,
            "grid_auto_columns": null,
            "grid_auto_flow": null,
            "grid_auto_rows": null,
            "grid_column": null,
            "grid_gap": null,
            "grid_row": null,
            "grid_template_areas": null,
            "grid_template_columns": null,
            "grid_template_rows": null,
            "height": null,
            "justify_content": null,
            "justify_items": null,
            "left": null,
            "margin": null,
            "max_height": null,
            "max_width": null,
            "min_height": null,
            "min_width": null,
            "object_fit": null,
            "object_position": null,
            "order": null,
            "overflow": null,
            "overflow_x": null,
            "overflow_y": null,
            "padding": null,
            "right": null,
            "top": null,
            "visibility": null,
            "width": null
          }
        },
        "ddc424bf8bd64ec4abe0ea4e6a3f1d7d": {
          "model_module": "@jupyter-widgets/controls",
          "model_name": "ProgressStyleModel",
          "model_module_version": "1.5.0",
          "state": {
            "_model_module": "@jupyter-widgets/controls",
            "_model_module_version": "1.5.0",
            "_model_name": "ProgressStyleModel",
            "_view_count": null,
            "_view_module": "@jupyter-widgets/base",
            "_view_module_version": "1.2.0",
            "_view_name": "StyleView",
            "bar_color": null,
            "description_width": ""
          }
        },
        "40b6bc5d9a0f4369a526351727c3c9cf": {
          "model_module": "@jupyter-widgets/base",
          "model_name": "LayoutModel",
          "model_module_version": "1.2.0",
          "state": {
            "_model_module": "@jupyter-widgets/base",
            "_model_module_version": "1.2.0",
            "_model_name": "LayoutModel",
            "_view_count": null,
            "_view_module": "@jupyter-widgets/base",
            "_view_module_version": "1.2.0",
            "_view_name": "LayoutView",
            "align_content": null,
            "align_items": null,
            "align_self": null,
            "border": null,
            "bottom": null,
            "display": null,
            "flex": null,
            "flex_flow": null,
            "grid_area": null,
            "grid_auto_columns": null,
            "grid_auto_flow": null,
            "grid_auto_rows": null,
            "grid_column": null,
            "grid_gap": null,
            "grid_row": null,
            "grid_template_areas": null,
            "grid_template_columns": null,
            "grid_template_rows": null,
            "height": null,
            "justify_content": null,
            "justify_items": null,
            "left": null,
            "margin": null,
            "max_height": null,
            "max_width": null,
            "min_height": null,
            "min_width": null,
            "object_fit": null,
            "object_position": null,
            "order": null,
            "overflow": null,
            "overflow_x": null,
            "overflow_y": null,
            "padding": null,
            "right": null,
            "top": null,
            "visibility": null,
            "width": null
          }
        },
        "027c1d9d3db8425aab52c4f44f9cf024": {
          "model_module": "@jupyter-widgets/controls",
          "model_name": "DescriptionStyleModel",
          "model_module_version": "1.5.0",
          "state": {
            "_model_module": "@jupyter-widgets/controls",
            "_model_module_version": "1.5.0",
            "_model_name": "DescriptionStyleModel",
            "_view_count": null,
            "_view_module": "@jupyter-widgets/base",
            "_view_module_version": "1.2.0",
            "_view_name": "StyleView",
            "description_width": ""
          }
        },
        "ed7bf1e8436b4e188257ab7f91539e23": {
          "model_module": "@jupyter-widgets/controls",
          "model_name": "HBoxModel",
          "model_module_version": "1.5.0",
          "state": {
            "_dom_classes": [],
            "_model_module": "@jupyter-widgets/controls",
            "_model_module_version": "1.5.0",
            "_model_name": "HBoxModel",
            "_view_count": null,
            "_view_module": "@jupyter-widgets/controls",
            "_view_module_version": "1.5.0",
            "_view_name": "HBoxView",
            "box_style": "",
            "children": [
              "IPY_MODEL_41eb1e025fa448d3aca4b96e92273562",
              "IPY_MODEL_832546354a074b61b7289dc932744548",
              "IPY_MODEL_118327d9c7b2483884f3ab784873db54"
            ],
            "layout": "IPY_MODEL_9eb8c19a9b5544618d1dfa024a07894d"
          }
        },
        "41eb1e025fa448d3aca4b96e92273562": {
          "model_module": "@jupyter-widgets/controls",
          "model_name": "HTMLModel",
          "model_module_version": "1.5.0",
          "state": {
            "_dom_classes": [],
            "_model_module": "@jupyter-widgets/controls",
            "_model_module_version": "1.5.0",
            "_model_name": "HTMLModel",
            "_view_count": null,
            "_view_module": "@jupyter-widgets/controls",
            "_view_module_version": "1.5.0",
            "_view_name": "HTMLView",
            "description": "",
            "description_tooltip": null,
            "layout": "IPY_MODEL_b5919639627748b190bc90ca3e1c0cee",
            "placeholder": "​",
            "style": "IPY_MODEL_744fd5584ef54892a06c08de2a2dc87d",
            "value": "Downloading: 100%"
          }
        },
        "832546354a074b61b7289dc932744548": {
          "model_module": "@jupyter-widgets/controls",
          "model_name": "FloatProgressModel",
          "model_module_version": "1.5.0",
          "state": {
            "_dom_classes": [],
            "_model_module": "@jupyter-widgets/controls",
            "_model_module_version": "1.5.0",
            "_model_name": "FloatProgressModel",
            "_view_count": null,
            "_view_module": "@jupyter-widgets/controls",
            "_view_module_version": "1.5.0",
            "_view_name": "ProgressView",
            "bar_style": "success",
            "description": "",
            "description_tooltip": null,
            "layout": "IPY_MODEL_b38934115415457cb6af8eaea5fc89a7",
            "max": 28,
            "min": 0,
            "orientation": "horizontal",
            "style": "IPY_MODEL_90069904a3d64c029608d0bbd159f168",
            "value": 28
          }
        },
        "118327d9c7b2483884f3ab784873db54": {
          "model_module": "@jupyter-widgets/controls",
          "model_name": "HTMLModel",
          "model_module_version": "1.5.0",
          "state": {
            "_dom_classes": [],
            "_model_module": "@jupyter-widgets/controls",
            "_model_module_version": "1.5.0",
            "_model_name": "HTMLModel",
            "_view_count": null,
            "_view_module": "@jupyter-widgets/controls",
            "_view_module_version": "1.5.0",
            "_view_name": "HTMLView",
            "description": "",
            "description_tooltip": null,
            "layout": "IPY_MODEL_e77265c81e734f669b2c9d888be55f40",
            "placeholder": "​",
            "style": "IPY_MODEL_7afcacdabb4244efa607730ba0d05f51",
            "value": " 28.0/28.0 [00:00&lt;00:00, 249B/s]"
          }
        },
        "9eb8c19a9b5544618d1dfa024a07894d": {
          "model_module": "@jupyter-widgets/base",
          "model_name": "LayoutModel",
          "model_module_version": "1.2.0",
          "state": {
            "_model_module": "@jupyter-widgets/base",
            "_model_module_version": "1.2.0",
            "_model_name": "LayoutModel",
            "_view_count": null,
            "_view_module": "@jupyter-widgets/base",
            "_view_module_version": "1.2.0",
            "_view_name": "LayoutView",
            "align_content": null,
            "align_items": null,
            "align_self": null,
            "border": null,
            "bottom": null,
            "display": null,
            "flex": null,
            "flex_flow": null,
            "grid_area": null,
            "grid_auto_columns": null,
            "grid_auto_flow": null,
            "grid_auto_rows": null,
            "grid_column": null,
            "grid_gap": null,
            "grid_row": null,
            "grid_template_areas": null,
            "grid_template_columns": null,
            "grid_template_rows": null,
            "height": null,
            "justify_content": null,
            "justify_items": null,
            "left": null,
            "margin": null,
            "max_height": null,
            "max_width": null,
            "min_height": null,
            "min_width": null,
            "object_fit": null,
            "object_position": null,
            "order": null,
            "overflow": null,
            "overflow_x": null,
            "overflow_y": null,
            "padding": null,
            "right": null,
            "top": null,
            "visibility": null,
            "width": null
          }
        },
        "b5919639627748b190bc90ca3e1c0cee": {
          "model_module": "@jupyter-widgets/base",
          "model_name": "LayoutModel",
          "model_module_version": "1.2.0",
          "state": {
            "_model_module": "@jupyter-widgets/base",
            "_model_module_version": "1.2.0",
            "_model_name": "LayoutModel",
            "_view_count": null,
            "_view_module": "@jupyter-widgets/base",
            "_view_module_version": "1.2.0",
            "_view_name": "LayoutView",
            "align_content": null,
            "align_items": null,
            "align_self": null,
            "border": null,
            "bottom": null,
            "display": null,
            "flex": null,
            "flex_flow": null,
            "grid_area": null,
            "grid_auto_columns": null,
            "grid_auto_flow": null,
            "grid_auto_rows": null,
            "grid_column": null,
            "grid_gap": null,
            "grid_row": null,
            "grid_template_areas": null,
            "grid_template_columns": null,
            "grid_template_rows": null,
            "height": null,
            "justify_content": null,
            "justify_items": null,
            "left": null,
            "margin": null,
            "max_height": null,
            "max_width": null,
            "min_height": null,
            "min_width": null,
            "object_fit": null,
            "object_position": null,
            "order": null,
            "overflow": null,
            "overflow_x": null,
            "overflow_y": null,
            "padding": null,
            "right": null,
            "top": null,
            "visibility": null,
            "width": null
          }
        },
        "744fd5584ef54892a06c08de2a2dc87d": {
          "model_module": "@jupyter-widgets/controls",
          "model_name": "DescriptionStyleModel",
          "model_module_version": "1.5.0",
          "state": {
            "_model_module": "@jupyter-widgets/controls",
            "_model_module_version": "1.5.0",
            "_model_name": "DescriptionStyleModel",
            "_view_count": null,
            "_view_module": "@jupyter-widgets/base",
            "_view_module_version": "1.2.0",
            "_view_name": "StyleView",
            "description_width": ""
          }
        },
        "b38934115415457cb6af8eaea5fc89a7": {
          "model_module": "@jupyter-widgets/base",
          "model_name": "LayoutModel",
          "model_module_version": "1.2.0",
          "state": {
            "_model_module": "@jupyter-widgets/base",
            "_model_module_version": "1.2.0",
            "_model_name": "LayoutModel",
            "_view_count": null,
            "_view_module": "@jupyter-widgets/base",
            "_view_module_version": "1.2.0",
            "_view_name": "LayoutView",
            "align_content": null,
            "align_items": null,
            "align_self": null,
            "border": null,
            "bottom": null,
            "display": null,
            "flex": null,
            "flex_flow": null,
            "grid_area": null,
            "grid_auto_columns": null,
            "grid_auto_flow": null,
            "grid_auto_rows": null,
            "grid_column": null,
            "grid_gap": null,
            "grid_row": null,
            "grid_template_areas": null,
            "grid_template_columns": null,
            "grid_template_rows": null,
            "height": null,
            "justify_content": null,
            "justify_items": null,
            "left": null,
            "margin": null,
            "max_height": null,
            "max_width": null,
            "min_height": null,
            "min_width": null,
            "object_fit": null,
            "object_position": null,
            "order": null,
            "overflow": null,
            "overflow_x": null,
            "overflow_y": null,
            "padding": null,
            "right": null,
            "top": null,
            "visibility": null,
            "width": null
          }
        },
        "90069904a3d64c029608d0bbd159f168": {
          "model_module": "@jupyter-widgets/controls",
          "model_name": "ProgressStyleModel",
          "model_module_version": "1.5.0",
          "state": {
            "_model_module": "@jupyter-widgets/controls",
            "_model_module_version": "1.5.0",
            "_model_name": "ProgressStyleModel",
            "_view_count": null,
            "_view_module": "@jupyter-widgets/base",
            "_view_module_version": "1.2.0",
            "_view_name": "StyleView",
            "bar_color": null,
            "description_width": ""
          }
        },
        "e77265c81e734f669b2c9d888be55f40": {
          "model_module": "@jupyter-widgets/base",
          "model_name": "LayoutModel",
          "model_module_version": "1.2.0",
          "state": {
            "_model_module": "@jupyter-widgets/base",
            "_model_module_version": "1.2.0",
            "_model_name": "LayoutModel",
            "_view_count": null,
            "_view_module": "@jupyter-widgets/base",
            "_view_module_version": "1.2.0",
            "_view_name": "LayoutView",
            "align_content": null,
            "align_items": null,
            "align_self": null,
            "border": null,
            "bottom": null,
            "display": null,
            "flex": null,
            "flex_flow": null,
            "grid_area": null,
            "grid_auto_columns": null,
            "grid_auto_flow": null,
            "grid_auto_rows": null,
            "grid_column": null,
            "grid_gap": null,
            "grid_row": null,
            "grid_template_areas": null,
            "grid_template_columns": null,
            "grid_template_rows": null,
            "height": null,
            "justify_content": null,
            "justify_items": null,
            "left": null,
            "margin": null,
            "max_height": null,
            "max_width": null,
            "min_height": null,
            "min_width": null,
            "object_fit": null,
            "object_position": null,
            "order": null,
            "overflow": null,
            "overflow_x": null,
            "overflow_y": null,
            "padding": null,
            "right": null,
            "top": null,
            "visibility": null,
            "width": null
          }
        },
        "7afcacdabb4244efa607730ba0d05f51": {
          "model_module": "@jupyter-widgets/controls",
          "model_name": "DescriptionStyleModel",
          "model_module_version": "1.5.0",
          "state": {
            "_model_module": "@jupyter-widgets/controls",
            "_model_module_version": "1.5.0",
            "_model_name": "DescriptionStyleModel",
            "_view_count": null,
            "_view_module": "@jupyter-widgets/base",
            "_view_module_version": "1.2.0",
            "_view_name": "StyleView",
            "description_width": ""
          }
        },
        "2eadbdeb976d47c0aa04eecb461d2797": {
          "model_module": "@jupyter-widgets/controls",
          "model_name": "HBoxModel",
          "model_module_version": "1.5.0",
          "state": {
            "_dom_classes": [],
            "_model_module": "@jupyter-widgets/controls",
            "_model_module_version": "1.5.0",
            "_model_name": "HBoxModel",
            "_view_count": null,
            "_view_module": "@jupyter-widgets/controls",
            "_view_module_version": "1.5.0",
            "_view_name": "HBoxView",
            "box_style": "",
            "children": [
              "IPY_MODEL_a65088b54ce740c4aaca0b1cd164a30c",
              "IPY_MODEL_bd6a157550f446a6bbae0ea6bea57150",
              "IPY_MODEL_037ed07384e94a74b6041b5868a10764"
            ],
            "layout": "IPY_MODEL_8b1d716694ee4d45b47b6c1ca3ccfe4d"
          }
        },
        "a65088b54ce740c4aaca0b1cd164a30c": {
          "model_module": "@jupyter-widgets/controls",
          "model_name": "HTMLModel",
          "model_module_version": "1.5.0",
          "state": {
            "_dom_classes": [],
            "_model_module": "@jupyter-widgets/controls",
            "_model_module_version": "1.5.0",
            "_model_name": "HTMLModel",
            "_view_count": null,
            "_view_module": "@jupyter-widgets/controls",
            "_view_module_version": "1.5.0",
            "_view_name": "HTMLView",
            "description": "",
            "description_tooltip": null,
            "layout": "IPY_MODEL_9eefd876c5b741f8960c65b9a353645e",
            "placeholder": "​",
            "style": "IPY_MODEL_20d49c4cbf31476ca53b5c1d907cff0a",
            "value": "Downloading: 100%"
          }
        },
        "bd6a157550f446a6bbae0ea6bea57150": {
          "model_module": "@jupyter-widgets/controls",
          "model_name": "FloatProgressModel",
          "model_module_version": "1.5.0",
          "state": {
            "_dom_classes": [],
            "_model_module": "@jupyter-widgets/controls",
            "_model_module_version": "1.5.0",
            "_model_name": "FloatProgressModel",
            "_view_count": null,
            "_view_module": "@jupyter-widgets/controls",
            "_view_module_version": "1.5.0",
            "_view_name": "ProgressView",
            "bar_style": "success",
            "description": "",
            "description_tooltip": null,
            "layout": "IPY_MODEL_9b86bb083eb24e2aa1ce5819c29a9006",
            "max": 483,
            "min": 0,
            "orientation": "horizontal",
            "style": "IPY_MODEL_dea5291549064bf7bf6e74df1ee7b7d5",
            "value": 483
          }
        },
        "037ed07384e94a74b6041b5868a10764": {
          "model_module": "@jupyter-widgets/controls",
          "model_name": "HTMLModel",
          "model_module_version": "1.5.0",
          "state": {
            "_dom_classes": [],
            "_model_module": "@jupyter-widgets/controls",
            "_model_module_version": "1.5.0",
            "_model_name": "HTMLModel",
            "_view_count": null,
            "_view_module": "@jupyter-widgets/controls",
            "_view_module_version": "1.5.0",
            "_view_name": "HTMLView",
            "description": "",
            "description_tooltip": null,
            "layout": "IPY_MODEL_7cab08ab78804211841597fef493d296",
            "placeholder": "​",
            "style": "IPY_MODEL_960a9f61b8ad4b75b8bfb44703cdd2dd",
            "value": " 483/483 [00:00&lt;00:00, 4.86kB/s]"
          }
        },
        "8b1d716694ee4d45b47b6c1ca3ccfe4d": {
          "model_module": "@jupyter-widgets/base",
          "model_name": "LayoutModel",
          "model_module_version": "1.2.0",
          "state": {
            "_model_module": "@jupyter-widgets/base",
            "_model_module_version": "1.2.0",
            "_model_name": "LayoutModel",
            "_view_count": null,
            "_view_module": "@jupyter-widgets/base",
            "_view_module_version": "1.2.0",
            "_view_name": "LayoutView",
            "align_content": null,
            "align_items": null,
            "align_self": null,
            "border": null,
            "bottom": null,
            "display": null,
            "flex": null,
            "flex_flow": null,
            "grid_area": null,
            "grid_auto_columns": null,
            "grid_auto_flow": null,
            "grid_auto_rows": null,
            "grid_column": null,
            "grid_gap": null,
            "grid_row": null,
            "grid_template_areas": null,
            "grid_template_columns": null,
            "grid_template_rows": null,
            "height": null,
            "justify_content": null,
            "justify_items": null,
            "left": null,
            "margin": null,
            "max_height": null,
            "max_width": null,
            "min_height": null,
            "min_width": null,
            "object_fit": null,
            "object_position": null,
            "order": null,
            "overflow": null,
            "overflow_x": null,
            "overflow_y": null,
            "padding": null,
            "right": null,
            "top": null,
            "visibility": null,
            "width": null
          }
        },
        "9eefd876c5b741f8960c65b9a353645e": {
          "model_module": "@jupyter-widgets/base",
          "model_name": "LayoutModel",
          "model_module_version": "1.2.0",
          "state": {
            "_model_module": "@jupyter-widgets/base",
            "_model_module_version": "1.2.0",
            "_model_name": "LayoutModel",
            "_view_count": null,
            "_view_module": "@jupyter-widgets/base",
            "_view_module_version": "1.2.0",
            "_view_name": "LayoutView",
            "align_content": null,
            "align_items": null,
            "align_self": null,
            "border": null,
            "bottom": null,
            "display": null,
            "flex": null,
            "flex_flow": null,
            "grid_area": null,
            "grid_auto_columns": null,
            "grid_auto_flow": null,
            "grid_auto_rows": null,
            "grid_column": null,
            "grid_gap": null,
            "grid_row": null,
            "grid_template_areas": null,
            "grid_template_columns": null,
            "grid_template_rows": null,
            "height": null,
            "justify_content": null,
            "justify_items": null,
            "left": null,
            "margin": null,
            "max_height": null,
            "max_width": null,
            "min_height": null,
            "min_width": null,
            "object_fit": null,
            "object_position": null,
            "order": null,
            "overflow": null,
            "overflow_x": null,
            "overflow_y": null,
            "padding": null,
            "right": null,
            "top": null,
            "visibility": null,
            "width": null
          }
        },
        "20d49c4cbf31476ca53b5c1d907cff0a": {
          "model_module": "@jupyter-widgets/controls",
          "model_name": "DescriptionStyleModel",
          "model_module_version": "1.5.0",
          "state": {
            "_model_module": "@jupyter-widgets/controls",
            "_model_module_version": "1.5.0",
            "_model_name": "DescriptionStyleModel",
            "_view_count": null,
            "_view_module": "@jupyter-widgets/base",
            "_view_module_version": "1.2.0",
            "_view_name": "StyleView",
            "description_width": ""
          }
        },
        "9b86bb083eb24e2aa1ce5819c29a9006": {
          "model_module": "@jupyter-widgets/base",
          "model_name": "LayoutModel",
          "model_module_version": "1.2.0",
          "state": {
            "_model_module": "@jupyter-widgets/base",
            "_model_module_version": "1.2.0",
            "_model_name": "LayoutModel",
            "_view_count": null,
            "_view_module": "@jupyter-widgets/base",
            "_view_module_version": "1.2.0",
            "_view_name": "LayoutView",
            "align_content": null,
            "align_items": null,
            "align_self": null,
            "border": null,
            "bottom": null,
            "display": null,
            "flex": null,
            "flex_flow": null,
            "grid_area": null,
            "grid_auto_columns": null,
            "grid_auto_flow": null,
            "grid_auto_rows": null,
            "grid_column": null,
            "grid_gap": null,
            "grid_row": null,
            "grid_template_areas": null,
            "grid_template_columns": null,
            "grid_template_rows": null,
            "height": null,
            "justify_content": null,
            "justify_items": null,
            "left": null,
            "margin": null,
            "max_height": null,
            "max_width": null,
            "min_height": null,
            "min_width": null,
            "object_fit": null,
            "object_position": null,
            "order": null,
            "overflow": null,
            "overflow_x": null,
            "overflow_y": null,
            "padding": null,
            "right": null,
            "top": null,
            "visibility": null,
            "width": null
          }
        },
        "dea5291549064bf7bf6e74df1ee7b7d5": {
          "model_module": "@jupyter-widgets/controls",
          "model_name": "ProgressStyleModel",
          "model_module_version": "1.5.0",
          "state": {
            "_model_module": "@jupyter-widgets/controls",
            "_model_module_version": "1.5.0",
            "_model_name": "ProgressStyleModel",
            "_view_count": null,
            "_view_module": "@jupyter-widgets/base",
            "_view_module_version": "1.2.0",
            "_view_name": "StyleView",
            "bar_color": null,
            "description_width": ""
          }
        },
        "7cab08ab78804211841597fef493d296": {
          "model_module": "@jupyter-widgets/base",
          "model_name": "LayoutModel",
          "model_module_version": "1.2.0",
          "state": {
            "_model_module": "@jupyter-widgets/base",
            "_model_module_version": "1.2.0",
            "_model_name": "LayoutModel",
            "_view_count": null,
            "_view_module": "@jupyter-widgets/base",
            "_view_module_version": "1.2.0",
            "_view_name": "LayoutView",
            "align_content": null,
            "align_items": null,
            "align_self": null,
            "border": null,
            "bottom": null,
            "display": null,
            "flex": null,
            "flex_flow": null,
            "grid_area": null,
            "grid_auto_columns": null,
            "grid_auto_flow": null,
            "grid_auto_rows": null,
            "grid_column": null,
            "grid_gap": null,
            "grid_row": null,
            "grid_template_areas": null,
            "grid_template_columns": null,
            "grid_template_rows": null,
            "height": null,
            "justify_content": null,
            "justify_items": null,
            "left": null,
            "margin": null,
            "max_height": null,
            "max_width": null,
            "min_height": null,
            "min_width": null,
            "object_fit": null,
            "object_position": null,
            "order": null,
            "overflow": null,
            "overflow_x": null,
            "overflow_y": null,
            "padding": null,
            "right": null,
            "top": null,
            "visibility": null,
            "width": null
          }
        },
        "960a9f61b8ad4b75b8bfb44703cdd2dd": {
          "model_module": "@jupyter-widgets/controls",
          "model_name": "DescriptionStyleModel",
          "model_module_version": "1.5.0",
          "state": {
            "_model_module": "@jupyter-widgets/controls",
            "_model_module_version": "1.5.0",
            "_model_name": "DescriptionStyleModel",
            "_view_count": null,
            "_view_module": "@jupyter-widgets/base",
            "_view_module_version": "1.2.0",
            "_view_name": "StyleView",
            "description_width": ""
          }
        },
        "a438ab5e0c624cb7956899f9fb9624e9": {
          "model_module": "@jupyter-widgets/controls",
          "model_name": "HBoxModel",
          "model_module_version": "1.5.0",
          "state": {
            "_dom_classes": [],
            "_model_module": "@jupyter-widgets/controls",
            "_model_module_version": "1.5.0",
            "_model_name": "HBoxModel",
            "_view_count": null,
            "_view_module": "@jupyter-widgets/controls",
            "_view_module_version": "1.5.0",
            "_view_name": "HBoxView",
            "box_style": "",
            "children": [
              "IPY_MODEL_27a71ffacbef4064b737fb579b79057d",
              "IPY_MODEL_d887dce087c342878fcb986041122c56",
              "IPY_MODEL_ff9c4d516d1540ac8acb9537d5059dc6"
            ],
            "layout": "IPY_MODEL_a5db0ee010c8432c96d504c5f024a502"
          }
        },
        "27a71ffacbef4064b737fb579b79057d": {
          "model_module": "@jupyter-widgets/controls",
          "model_name": "HTMLModel",
          "model_module_version": "1.5.0",
          "state": {
            "_dom_classes": [],
            "_model_module": "@jupyter-widgets/controls",
            "_model_module_version": "1.5.0",
            "_model_name": "HTMLModel",
            "_view_count": null,
            "_view_module": "@jupyter-widgets/controls",
            "_view_module_version": "1.5.0",
            "_view_name": "HTMLView",
            "description": "",
            "description_tooltip": null,
            "layout": "IPY_MODEL_c0a5a3e2fc3941868ecade1805568c2a",
            "placeholder": "​",
            "style": "IPY_MODEL_6c1535ac99644024a0b4cac8e291e2c0",
            "value": "Downloading: 100%"
          }
        },
        "d887dce087c342878fcb986041122c56": {
          "model_module": "@jupyter-widgets/controls",
          "model_name": "FloatProgressModel",
          "model_module_version": "1.5.0",
          "state": {
            "_dom_classes": [],
            "_model_module": "@jupyter-widgets/controls",
            "_model_module_version": "1.5.0",
            "_model_name": "FloatProgressModel",
            "_view_count": null,
            "_view_module": "@jupyter-widgets/controls",
            "_view_module_version": "1.5.0",
            "_view_name": "ProgressView",
            "bar_style": "success",
            "description": "",
            "description_tooltip": null,
            "layout": "IPY_MODEL_7d9216c50d664992a90280af42cbc705",
            "max": 267967963,
            "min": 0,
            "orientation": "horizontal",
            "style": "IPY_MODEL_6b984b75af13474d910aaa5a7241ad6c",
            "value": 267967963
          }
        },
        "ff9c4d516d1540ac8acb9537d5059dc6": {
          "model_module": "@jupyter-widgets/controls",
          "model_name": "HTMLModel",
          "model_module_version": "1.5.0",
          "state": {
            "_dom_classes": [],
            "_model_module": "@jupyter-widgets/controls",
            "_model_module_version": "1.5.0",
            "_model_name": "HTMLModel",
            "_view_count": null,
            "_view_module": "@jupyter-widgets/controls",
            "_view_module_version": "1.5.0",
            "_view_name": "HTMLView",
            "description": "",
            "description_tooltip": null,
            "layout": "IPY_MODEL_164f9dd908a34980ae38f141fd0b6446",
            "placeholder": "​",
            "style": "IPY_MODEL_fe9f5fc30b1a4d4c872d583fa0d6d4e7",
            "value": " 268M/268M [00:11&lt;00:00, 27.2MB/s]"
          }
        },
        "a5db0ee010c8432c96d504c5f024a502": {
          "model_module": "@jupyter-widgets/base",
          "model_name": "LayoutModel",
          "model_module_version": "1.2.0",
          "state": {
            "_model_module": "@jupyter-widgets/base",
            "_model_module_version": "1.2.0",
            "_model_name": "LayoutModel",
            "_view_count": null,
            "_view_module": "@jupyter-widgets/base",
            "_view_module_version": "1.2.0",
            "_view_name": "LayoutView",
            "align_content": null,
            "align_items": null,
            "align_self": null,
            "border": null,
            "bottom": null,
            "display": null,
            "flex": null,
            "flex_flow": null,
            "grid_area": null,
            "grid_auto_columns": null,
            "grid_auto_flow": null,
            "grid_auto_rows": null,
            "grid_column": null,
            "grid_gap": null,
            "grid_row": null,
            "grid_template_areas": null,
            "grid_template_columns": null,
            "grid_template_rows": null,
            "height": null,
            "justify_content": null,
            "justify_items": null,
            "left": null,
            "margin": null,
            "max_height": null,
            "max_width": null,
            "min_height": null,
            "min_width": null,
            "object_fit": null,
            "object_position": null,
            "order": null,
            "overflow": null,
            "overflow_x": null,
            "overflow_y": null,
            "padding": null,
            "right": null,
            "top": null,
            "visibility": null,
            "width": null
          }
        },
        "c0a5a3e2fc3941868ecade1805568c2a": {
          "model_module": "@jupyter-widgets/base",
          "model_name": "LayoutModel",
          "model_module_version": "1.2.0",
          "state": {
            "_model_module": "@jupyter-widgets/base",
            "_model_module_version": "1.2.0",
            "_model_name": "LayoutModel",
            "_view_count": null,
            "_view_module": "@jupyter-widgets/base",
            "_view_module_version": "1.2.0",
            "_view_name": "LayoutView",
            "align_content": null,
            "align_items": null,
            "align_self": null,
            "border": null,
            "bottom": null,
            "display": null,
            "flex": null,
            "flex_flow": null,
            "grid_area": null,
            "grid_auto_columns": null,
            "grid_auto_flow": null,
            "grid_auto_rows": null,
            "grid_column": null,
            "grid_gap": null,
            "grid_row": null,
            "grid_template_areas": null,
            "grid_template_columns": null,
            "grid_template_rows": null,
            "height": null,
            "justify_content": null,
            "justify_items": null,
            "left": null,
            "margin": null,
            "max_height": null,
            "max_width": null,
            "min_height": null,
            "min_width": null,
            "object_fit": null,
            "object_position": null,
            "order": null,
            "overflow": null,
            "overflow_x": null,
            "overflow_y": null,
            "padding": null,
            "right": null,
            "top": null,
            "visibility": null,
            "width": null
          }
        },
        "6c1535ac99644024a0b4cac8e291e2c0": {
          "model_module": "@jupyter-widgets/controls",
          "model_name": "DescriptionStyleModel",
          "model_module_version": "1.5.0",
          "state": {
            "_model_module": "@jupyter-widgets/controls",
            "_model_module_version": "1.5.0",
            "_model_name": "DescriptionStyleModel",
            "_view_count": null,
            "_view_module": "@jupyter-widgets/base",
            "_view_module_version": "1.2.0",
            "_view_name": "StyleView",
            "description_width": ""
          }
        },
        "7d9216c50d664992a90280af42cbc705": {
          "model_module": "@jupyter-widgets/base",
          "model_name": "LayoutModel",
          "model_module_version": "1.2.0",
          "state": {
            "_model_module": "@jupyter-widgets/base",
            "_model_module_version": "1.2.0",
            "_model_name": "LayoutModel",
            "_view_count": null,
            "_view_module": "@jupyter-widgets/base",
            "_view_module_version": "1.2.0",
            "_view_name": "LayoutView",
            "align_content": null,
            "align_items": null,
            "align_self": null,
            "border": null,
            "bottom": null,
            "display": null,
            "flex": null,
            "flex_flow": null,
            "grid_area": null,
            "grid_auto_columns": null,
            "grid_auto_flow": null,
            "grid_auto_rows": null,
            "grid_column": null,
            "grid_gap": null,
            "grid_row": null,
            "grid_template_areas": null,
            "grid_template_columns": null,
            "grid_template_rows": null,
            "height": null,
            "justify_content": null,
            "justify_items": null,
            "left": null,
            "margin": null,
            "max_height": null,
            "max_width": null,
            "min_height": null,
            "min_width": null,
            "object_fit": null,
            "object_position": null,
            "order": null,
            "overflow": null,
            "overflow_x": null,
            "overflow_y": null,
            "padding": null,
            "right": null,
            "top": null,
            "visibility": null,
            "width": null
          }
        },
        "6b984b75af13474d910aaa5a7241ad6c": {
          "model_module": "@jupyter-widgets/controls",
          "model_name": "ProgressStyleModel",
          "model_module_version": "1.5.0",
          "state": {
            "_model_module": "@jupyter-widgets/controls",
            "_model_module_version": "1.5.0",
            "_model_name": "ProgressStyleModel",
            "_view_count": null,
            "_view_module": "@jupyter-widgets/base",
            "_view_module_version": "1.2.0",
            "_view_name": "StyleView",
            "bar_color": null,
            "description_width": ""
          }
        },
        "164f9dd908a34980ae38f141fd0b6446": {
          "model_module": "@jupyter-widgets/base",
          "model_name": "LayoutModel",
          "model_module_version": "1.2.0",
          "state": {
            "_model_module": "@jupyter-widgets/base",
            "_model_module_version": "1.2.0",
            "_model_name": "LayoutModel",
            "_view_count": null,
            "_view_module": "@jupyter-widgets/base",
            "_view_module_version": "1.2.0",
            "_view_name": "LayoutView",
            "align_content": null,
            "align_items": null,
            "align_self": null,
            "border": null,
            "bottom": null,
            "display": null,
            "flex": null,
            "flex_flow": null,
            "grid_area": null,
            "grid_auto_columns": null,
            "grid_auto_flow": null,
            "grid_auto_rows": null,
            "grid_column": null,
            "grid_gap": null,
            "grid_row": null,
            "grid_template_areas": null,
            "grid_template_columns": null,
            "grid_template_rows": null,
            "height": null,
            "justify_content": null,
            "justify_items": null,
            "left": null,
            "margin": null,
            "max_height": null,
            "max_width": null,
            "min_height": null,
            "min_width": null,
            "object_fit": null,
            "object_position": null,
            "order": null,
            "overflow": null,
            "overflow_x": null,
            "overflow_y": null,
            "padding": null,
            "right": null,
            "top": null,
            "visibility": null,
            "width": null
          }
        },
        "fe9f5fc30b1a4d4c872d583fa0d6d4e7": {
          "model_module": "@jupyter-widgets/controls",
          "model_name": "DescriptionStyleModel",
          "model_module_version": "1.5.0",
          "state": {
            "_model_module": "@jupyter-widgets/controls",
            "_model_module_version": "1.5.0",
            "_model_name": "DescriptionStyleModel",
            "_view_count": null,
            "_view_module": "@jupyter-widgets/base",
            "_view_module_version": "1.2.0",
            "_view_name": "StyleView",
            "description_width": ""
          }
        }
      }
    }
  },
  "nbformat": 4,
  "nbformat_minor": 0
}