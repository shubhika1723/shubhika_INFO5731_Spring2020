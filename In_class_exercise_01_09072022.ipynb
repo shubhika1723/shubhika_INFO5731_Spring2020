{
  "cells": [
    {
      "cell_type": "markdown",
      "metadata": {
        "id": "view-in-github",
        "colab_type": "text"
      },
      "source": [
        "<a href=\"https://colab.research.google.com/github/shubhika1723/shubhika_INFO5731_Spring2020/blob/main/In_class_exercise_01_09072022.ipynb\" target=\"_parent\"><img src=\"https://colab.research.google.com/assets/colab-badge.svg\" alt=\"Open In Colab\"/></a>"
      ]
    },
    {
      "cell_type": "markdown",
      "metadata": {
        "id": "DymRJbxDBCnf"
      },
      "source": [
        "# **The first In-class-exercise (09/07/2022, 40 points in total)**"
      ]
    },
    {
      "cell_type": "markdown",
      "metadata": {
        "id": "03jb4GZsBkBS"
      },
      "source": [
        "(1) Write a Python program to calculate the length of a string. (4 points)"
      ]
    },
    {
      "cell_type": "code",
      "execution_count": null,
      "metadata": {
        "colab": {
          "base_uri": "https://localhost:8080/"
        },
        "id": "YaGLbSHHB8Ej",
        "outputId": "a2a8f006-61ce-4208-b0c7-cf1b34fddc3e"
      },
      "outputs": [
        {
          "output_type": "stream",
          "name": "stdout",
          "text": [
            "length of a string:  21\n"
          ]
        }
      ],
      "source": [
        "# write your answer here\n",
        "print(\"length of a string: \", +len(\"Hiii this is shubhika\"))"
      ]
    },
    {
      "cell_type": "markdown",
      "metadata": {
        "id": "jJDe71iLB616"
      },
      "source": [
        "(2) Write a Python program to count the number of characters in a string. (4 points)\n",
        "\n",
        "Sample String : 'google.com‘, \n",
        "\n",
        "Expected Result : {'o': 3, 'g': 2, '.': 1, 'e': 1, 'l': 1, 'm': 1, 'c': 1}"
      ]
    },
    {
      "cell_type": "code",
      "execution_count": null,
      "metadata": {
        "id": "MtKskTzbCLaU",
        "colab": {
          "base_uri": "https://localhost:8080/"
        },
        "outputId": "ab3eaf16-6db1-4202-c6d9-8ce3f1743f4a"
      },
      "outputs": [
        {
          "output_type": "stream",
          "name": "stdout",
          "text": [
            "{'g': 2, 'o': 3, 'l': 1, 'e': 1, '.': 1, 'c': 1, 'm': 1}\n"
          ]
        }
      ],
      "source": [
        "# write your answer here\n",
        "a=\"google.com\"\n",
        "b=dict()\n",
        "for i in range(len(a)):\n",
        "  x=a[i]\n",
        "  y=a.count(x)\n",
        "  b[x]=y\n",
        "print(b)"
      ]
    },
    {
      "cell_type": "markdown",
      "metadata": {
        "id": "55W9AMdXCSpV"
      },
      "source": [
        "(3) Write a Python program to sum all the items in a list. (4 points)"
      ]
    },
    {
      "cell_type": "code",
      "execution_count": null,
      "metadata": {
        "id": "I57NXsauCec2",
        "colab": {
          "base_uri": "https://localhost:8080/"
        },
        "outputId": "8001d4d0-26f6-4f9b-b8fc-a44162b73673"
      },
      "outputs": [
        {
          "output_type": "stream",
          "name": "stdout",
          "text": [
            "sum of iteams in list: 222\n"
          ]
        }
      ],
      "source": [
        "list=[12, 45, 78, 87]\n",
        "sum=0\n",
        "for i in range(0, len(list)):\n",
        "  sum=sum+ list[i]\n",
        "print(\"sum of iteams in list:\", +sum)"
      ]
    },
    {
      "cell_type": "markdown",
      "metadata": {
        "id": "4ulBZ6yhCi9F"
      },
      "source": [
        "(4) Write a Python program to get a string from a given string where all occurrences of its first char have been changed to '\\$', except the first char itself. (4 points)\n",
        "\n",
        "Sample String : 'restart‘, \n",
        "\n",
        "Expected Result : 'resta\\$t'"
      ]
    },
    {
      "cell_type": "code",
      "execution_count": null,
      "metadata": {
        "id": "Fj0XhwbBCw2o",
        "colab": {
          "base_uri": "https://localhost:8080/"
        },
        "outputId": "66706c57-1f1d-45c4-9d56-3ef28bcc920e"
      },
      "outputs": [
        {
          "output_type": "stream",
          "name": "stdout",
          "text": [
            "['r', 'e', 's', 't', 'a', '$', '$']\n"
          ]
        }
      ],
      "source": [
        "# write your answer here\n",
        "s=list(\"restart\")\n",
        "for x in range(0,len(s)):\n",
        "  a=s[x]\n",
        "  for j in range(x+1, len(s)):\n",
        "    if(a==s[j]):\n",
        "      s[j]=\"$\"\n",
        "print(s)"
      ]
    },
    {
      "cell_type": "markdown",
      "metadata": {
        "id": "_bIP7s1MCzue"
      },
      "source": [
        "(5) Write a program with python which could accept two parameter a and b to calculate and output the result of S, where \n",
        "\n",
        "$\\ S=3.14*(1+a/b)^3$ (4 points)\n",
        "\n"
      ]
    },
    {
      "cell_type": "code",
      "execution_count": null,
      "metadata": {
        "id": "w79QilHXD3Mg",
        "colab": {
          "base_uri": "https://localhost:8080/"
        },
        "outputId": "3fda3caf-6a44-441a-9639-86f8c1758d50"
      },
      "outputs": [
        {
          "output_type": "stream",
          "name": "stdout",
          "text": [
            "enter a value: 2\n",
            "enter b value: 4\n",
            "result of S:  10.5975\n"
          ]
        }
      ],
      "source": [
        "# write your answer here\n",
        "a=int(input(\"enter a value: \"))\n",
        "b=int(input(\"enter b value: \"))\n",
        "s=3.14*((1+a/b)**3)\n",
        "print(\"result of S: \", +s)\n"
      ]
    },
    {
      "cell_type": "markdown",
      "metadata": {
        "id": "xCa2bK9aD4Q3"
      },
      "source": [
        "(6) Write a Python program to concatenate following dictionaries to create a new one. (4 points)\n",
        "\n",
        "Sample Dictionary : dic1={1:10, 2:20}, dic2={3:30, 4:40}, dic3={5:50,6:60}, \n",
        "\n",
        "Expected Result : {1: 10, 2: 20, 3: 30, 4: 40, 5: 50, 6: 60}\n"
      ]
    },
    {
      "cell_type": "code",
      "execution_count": null,
      "metadata": {
        "id": "_z4aLqAbEET1",
        "colab": {
          "base_uri": "https://localhost:8080/"
        },
        "outputId": "7e24ab0d-6ecd-4d4d-9917-7f429f5ef495"
      },
      "outputs": [
        {
          "output_type": "stream",
          "name": "stdout",
          "text": [
            "{1: 10, 2: 20, 3: 30, 4: 40, 5: 50, 6: 60}\n"
          ]
        }
      ],
      "source": [
        "# write your answer here\n",
        "dic1={1:10, 2:20}\n",
        "dic2={3:30, 4:40}\n",
        "dic3={5:50, 6:60}\n",
        "result={}\n",
        "for i in (dic1, dic2, dic3) : result.update(i)\n",
        "print(result)"
      ]
    },
    {
      "cell_type": "markdown",
      "metadata": {
        "id": "0v48Vqa7FrQh"
      },
      "source": [
        "(7) Write a Python program to check whether an element exists within a tuple. (4 points)"
      ]
    },
    {
      "cell_type": "code",
      "execution_count": null,
      "metadata": {
        "id": "7WEmgq-DF2P1",
        "colab": {
          "base_uri": "https://localhost:8080/"
        },
        "outputId": "3d1924e1-cf43-453d-ceec-0a005fa4b490"
      },
      "outputs": [
        {
          "output_type": "stream",
          "name": "stdout",
          "text": [
            "True\n",
            "True\n"
          ]
        }
      ],
      "source": [
        "# write your answer here\n",
        "tuple=(1, \"s\", 2, \"a\", 3,\"s\", 4, \"t\")\n",
        "print(1 in tuple)\n",
        "print(\"t\" in tuple)"
      ]
    },
    {
      "cell_type": "markdown",
      "metadata": {
        "id": "vD5PYLMuGga_"
      },
      "source": [
        "(8) Write a Python program to find maximum and the minimum value in a set. (4 points)"
      ]
    },
    {
      "cell_type": "code",
      "execution_count": null,
      "metadata": {
        "colab": {
          "base_uri": "https://localhost:8080/"
        },
        "id": "t0D5kdJUGjjw",
        "outputId": "8475d450-efbe-462e-e040-8f08d96cf56a"
      },
      "outputs": [
        {
          "output_type": "stream",
          "name": "stdout",
          "text": [
            "maximum value in a set:  67\n",
            "minimum value in a set:  23\n"
          ]
        }
      ],
      "source": [
        "# write your answer here\n",
        "set={23, 56, 67, 34, 56}\n",
        "print(\"maximum value in a set: \",+max(set))\n",
        "print(\"minimum value in a set: \",+min(set))"
      ]
    },
    {
      "cell_type": "markdown",
      "metadata": {
        "id": "uHkd-y5VhVWC"
      },
      "source": [
        "(9) Write a Python program to randomly divide the students in this class into six groups for term projects, each group should have at least 4 students but no more than 6 students (including 6). Here is the students list: (4 points)\n",
        "\n",
        "studnet_list = ['ja0964','sa1198','sb1357','vb0218','sc1229','kg0569','kg0470','sg1297','bg0320','fh0141','jl1252','sk1386',\n",
        "           'ak0956','sk1390','sk1458','sk1313','ak0934','vm0377','nm0618','sm1640','sm1907','gn0108','pr0353','dr0609','ms1500','aos0040','ds0814', 'av0659','nv0234','hy0232']"
      ]
    },
    {
      "cell_type": "code",
      "execution_count": null,
      "metadata": {
        "id": "3iGbmcOBhTwy",
        "colab": {
          "base_uri": "https://localhost:8080/"
        },
        "outputId": "f9ced3fc-b4f8-469e-ca6a-8ed9727dc7bc"
      },
      "outputs": [
        {
          "output_type": "stream",
          "name": "stdout",
          "text": [
            "group 0 ['nm0618', 'fh0141', 'sk1386', 'sc1229']\n",
            "group 1 ['sa1198', 'pr0353', 'ms1500', 'ak0934', 'kg0470', 'sg1297']\n",
            "group 2 ['vb0218', 'sk1313', 'hy0232', 'sm1907']\n",
            "group 3 ['gn0108', 'ak0956', 'sb1357', 'sk1390', 'kg0569']\n",
            "group 4 ['sm1640', 'aos0040', 'dr0609', 'ja0964', 'vm0377', 'jl1252']\n",
            "group 5 ['bg0320', 'sk1458', 'ds0814', 'nv0234', 'av0659']\n"
          ]
        }
      ],
      "source": [
        "# write your answer here\n",
        "from random import randint\n",
        "list = ['ja0964','sa1198','sb1357','vb0218','sc1229','kg0569','kg0470','sg1297',\n",
        "        'bg0320','fh0141','jl1252','sk1386', 'ak0956','sk1390','sk1458',\n",
        "        'sk1313','ak0934','vm0377','nm0618','sm1640','sm1907','gn0108',\n",
        "        'pr0353','dr0609','ms1500','aos0040','ds0814', 'av0659','nv0234',\n",
        "        'hy0232']\n",
        "group=[[], [], [], [], [], []]\n",
        "while len(list)>0: # no more than 6\n",
        "  a=randint(0,len(list)-1)\n",
        "  b=randint(0,5)\n",
        "  while len(group[b])>=6:\n",
        "    b=randint(0,5)\n",
        "  group[b].append(list.pop(a))\n",
        "for i in range(6): # atleast 4\n",
        "  while len(group[i])<4:\n",
        "    c=i\n",
        "    while c==i:\n",
        "      c=randint(0,5)\n",
        "    group[i].append(group[c].pop())\n",
        "for i in range(6):\n",
        "  print(\"group\", i, group[i])\n"
      ]
    },
    {
      "cell_type": "markdown",
      "metadata": {
        "id": "FWTaZHxURrrJ"
      },
      "source": [
        "(10) Write a Python program to find the duplicate elements in a given array of integers. Return -1 If there are no such elements. (4 points)"
      ]
    },
    {
      "cell_type": "code",
      "execution_count": null,
      "metadata": {
        "id": "9czFI81qRrrJ",
        "colab": {
          "base_uri": "https://localhost:8080/"
        },
        "outputId": "4f179b2d-df2d-4669-8f8e-fadeb9d83f7c"
      },
      "outputs": [
        {
          "output_type": "stream",
          "name": "stdout",
          "text": [
            "[1, 3, 5]\n"
          ]
        }
      ],
      "source": [
        "# write your answer here\n",
        "a=[1, 2, 3, 5, 1, 6, 5, 3, 4]\n",
        "b=[]\n",
        "for i in range(len(a)):\n",
        "  for j in range(i+1, len(a)):\n",
        "    if(a[i]==a[j]):\n",
        "      b.append(a[i])\n",
        "if(b != []):\n",
        "  print(b)\n",
        "else:\n",
        "  print(-1)"
      ]
    },
    {
      "cell_type": "markdown",
      "metadata": {
        "id": "VoSXgNY9RrrK"
      },
      "source": [
        "(11) Write a Python program to select all the Sundays of a specified year. (4 extra points)"
      ]
    },
    {
      "cell_type": "code",
      "execution_count": null,
      "metadata": {
        "id": "hZjsZ2wPRrrK",
        "colab": {
          "base_uri": "https://localhost:8080/"
        },
        "outputId": "887fec37-49a6-4fd1-d21b-ff74d6e8be10"
      },
      "outputs": [
        {
          "output_type": "stream",
          "name": "stdout",
          "text": [
            "2020-01-05\n",
            "2020-01-12\n",
            "2020-01-19\n",
            "2020-01-26\n",
            "2020-02-02\n",
            "2020-02-09\n",
            "2020-02-16\n",
            "2020-02-23\n",
            "2020-03-01\n",
            "2020-03-08\n",
            "2020-03-15\n",
            "2020-03-22\n",
            "2020-03-29\n",
            "2020-04-05\n",
            "2020-04-12\n",
            "2020-04-19\n",
            "2020-04-26\n",
            "2020-05-03\n",
            "2020-05-10\n",
            "2020-05-17\n",
            "2020-05-24\n",
            "2020-05-31\n",
            "2020-06-07\n",
            "2020-06-14\n",
            "2020-06-21\n",
            "2020-06-28\n",
            "2020-07-05\n",
            "2020-07-12\n",
            "2020-07-19\n",
            "2020-07-26\n",
            "2020-08-02\n",
            "2020-08-09\n",
            "2020-08-16\n",
            "2020-08-23\n",
            "2020-08-30\n",
            "2020-09-06\n",
            "2020-09-13\n",
            "2020-09-20\n",
            "2020-09-27\n",
            "2020-10-04\n",
            "2020-10-11\n",
            "2020-10-18\n",
            "2020-10-25\n",
            "2020-11-01\n",
            "2020-11-08\n",
            "2020-11-15\n",
            "2020-11-22\n",
            "2020-11-29\n",
            "2020-12-06\n",
            "2020-12-13\n",
            "2020-12-20\n",
            "2020-12-27\n"
          ]
        }
      ],
      "source": [
        "# write your answer here\n",
        "from datetime import date, timedelta\n",
        "def sundays(year):\n",
        "  d = date(year, 1, 1)\n",
        "  d += timedelta(days= 6- d.weekday())\n",
        "  while d.year ==year:\n",
        "    yield d\n",
        "    d += timedelta(days =7)\n",
        "for s in sundays(2020):\n",
        "  print(s)"
      ]
    }
  ],
  "metadata": {
    "colab": {
      "collapsed_sections": [],
      "provenance": [],
      "include_colab_link": true
    },
    "kernelspec": {
      "display_name": "Python 3 (ipykernel)",
      "language": "python",
      "name": "python3"
    },
    "language_info": {
      "codemirror_mode": {
        "name": "ipython",
        "version": 3
      },
      "file_extension": ".py",
      "mimetype": "text/x-python",
      "name": "python",
      "nbconvert_exporter": "python",
      "pygments_lexer": "ipython3",
      "version": "3.9.12"
    }
  },
  "nbformat": 4,
  "nbformat_minor": 0
}